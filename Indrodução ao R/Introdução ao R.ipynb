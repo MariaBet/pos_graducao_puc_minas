{
 "cells": [
  {
   "cell_type": "markdown",
   "metadata": {},
   "source": [
    "# Introdução ao R\n",
    "\n",
    "O que veremos nessa aula:\n",
    "\n",
    "* Gerenciamento de pacotes\n",
    "* Operadores aritméticos\n",
    "* Tipos de dados em R\n",
    "* Variáveis\n",
    "* Identificadores\n",
    "* Comando de atribuição\n",
    "* Impressão e leitura de variáveis\n",
    "* Operadores relacionais\n",
    "* Operadores lógicos\n",
    "* Gerenciando objetos na memória\n",
    "\n",
    "Referência: [Manuais](https://cran.r-project.org/manuals.html) criados pelo grupo de desenvolvedores do R. "
   ]
  },
  {
   "cell_type": "markdown",
   "metadata": {},
   "source": [
    "## Gerenciamento de pacotes"
   ]
  },
  {
   "cell_type": "code",
   "execution_count": 1,
   "metadata": {},
   "outputs": [
    {
     "data": {
      "text/html": [
       "<table>\n",
       "<caption>A matrix: 105 × 16 of type chr</caption>\n",
       "<thead>\n",
       "\t<tr><th></th><th scope=col>Package</th><th scope=col>LibPath</th><th scope=col>Version</th><th scope=col>Priority</th><th scope=col>Depends</th><th scope=col>Imports</th><th scope=col>LinkingTo</th><th scope=col>Suggests</th><th scope=col>Enhances</th><th scope=col>License</th><th scope=col>License_is_FOSS</th><th scope=col>License_restricts_use</th><th scope=col>OS_type</th><th scope=col>MD5sum</th><th scope=col>NeedsCompilation</th><th scope=col>Built</th></tr>\n",
       "</thead>\n",
       "<tbody>\n",
       "\t<tr><th scope=row>IRdisplay</th><td><span style=white-space:pre-wrap>IRdisplay  </span></td><td>/home/betania/R/x86_64-pc-linux-gnu-library/4.0</td><td><span style=white-space:pre-wrap>0.7.0   </span></td><td>NA</td><td>R (&gt;= 3.0.1) </td><td><span style=white-space:pre-wrap>methods, repr                                                                                                                           </span></td><td>NA</td><td><span style=white-space:pre-wrap>testthat, withr                                                                                                                                                </span></td><td><span style=white-space:pre-wrap>NA                                                         </span></td><td><span style=white-space:pre-wrap>MIT + file LICENSE         </span></td><td>NA</td><td>NA</td><td>NA</td><td>NA</td><td>no </td><td>4.0.2</td></tr>\n",
       "\t<tr><th scope=row>IRkernel</th><td><span style=white-space:pre-wrap>IRkernel   </span></td><td>/home/betania/R/x86_64-pc-linux-gnu-library/4.0</td><td><span style=white-space:pre-wrap>1.1.1   </span></td><td>NA</td><td>R (&gt;= 3.2.0) </td><td>repr (&gt;= 0.4.99), methods, evaluate (&gt;= 0.10), IRdisplay (&gt;=\n",
       "0.3.0.9999), pbdZMQ (&gt;= 0.2-1), crayon, jsonlite (&gt;= 0.9.6),\n",
       "uuid, digest</td><td>NA</td><td><span style=white-space:pre-wrap>testthat, roxygen2                                                                                                                                             </span></td><td><span style=white-space:pre-wrap>NA                                                         </span></td><td><span style=white-space:pre-wrap>MIT + file LICENSE         </span></td><td>NA</td><td>NA</td><td>NA</td><td>NA</td><td>no </td><td>4.0.2</td></tr>\n",
       "\t<tr><th scope=row>repr</th><td><span style=white-space:pre-wrap>repr       </span></td><td>/home/betania/R/x86_64-pc-linux-gnu-library/4.0</td><td><span style=white-space:pre-wrap>1.1.0   </span></td><td>NA</td><td>R (&gt;= 3.0.1) </td><td><span style=white-space:pre-wrap>utils, grDevices, htmltools, jsonlite, pillar (&gt;= 1.4.0),\n",
       "base64enc                                                                    </span></td><td>NA</td><td><span style=white-space:pre-wrap>methods, highr, Cairo, stringr, testthat, diffobj (&gt;= 0.2.3),\n",
       "leaflet                                                                                         </span></td><td>data.table, dplyr, htmlwidgets, vegalite, plotly, geojsonio</td><td><span style=white-space:pre-wrap>GPL-3                      </span></td><td>NA</td><td>NA</td><td>NA</td><td>NA</td><td>no </td><td>4.0.2</td></tr>\n",
       "\t<tr><th scope=row>askpass</th><td><span style=white-space:pre-wrap>askpass    </span></td><td><span style=white-space:pre-wrap>/usr/local/lib/R/site-library                  </span></td><td><span style=white-space:pre-wrap>1.1     </span></td><td>NA</td><td><span style=white-space:pre-wrap>NA           </span></td><td><span style=white-space:pre-wrap>sys (&gt;= 2.1)                                                                                                                            </span></td><td>NA</td><td><span style=white-space:pre-wrap>testthat                                                                                                                                                       </span></td><td><span style=white-space:pre-wrap>NA                                                         </span></td><td><span style=white-space:pre-wrap>MIT + file LICENSE         </span></td><td>NA</td><td>NA</td><td>NA</td><td>NA</td><td>yes</td><td>4.0.2</td></tr>\n",
       "\t<tr><th scope=row>assertthat</th><td>assertthat </td><td>/usr/local/lib/R/site-library                  </td><td>0.2.1   </td><td>NA</td><td>NA           </td><td>tools                                                                                                                                   </td><td>NA</td><td>testthat, covr                                                                                                                                                 </td><td>NA                                                         </td><td>GPL-3                      </td><td>NA</td><td>NA</td><td>NA</td><td>NA</td><td>no </td><td>4.0.2</td></tr>\n",
       "\t<tr><th scope=row>backports</th><td><span style=white-space:pre-wrap>backports  </span></td><td><span style=white-space:pre-wrap>/usr/local/lib/R/site-library                  </span></td><td><span style=white-space:pre-wrap>1.1.9   </span></td><td>NA</td><td>R (&gt;= 3.0.0) </td><td><span style=white-space:pre-wrap>utils                                                                                                                                   </span></td><td>NA</td><td><span style=white-space:pre-wrap>NA                                                                                                                                                             </span></td><td><span style=white-space:pre-wrap>NA                                                         </span></td><td><span style=white-space:pre-wrap>GPL-2 | GPL-3              </span></td><td>NA</td><td>NA</td><td>NA</td><td>NA</td><td>yes</td><td>4.0.2</td></tr>\n",
       "\t<tr><th scope=row>base64enc</th><td><span style=white-space:pre-wrap>base64enc  </span></td><td><span style=white-space:pre-wrap>/usr/local/lib/R/site-library                  </span></td><td><span style=white-space:pre-wrap>0.1-3   </span></td><td>NA</td><td>R (&gt;= 2.9.0) </td><td><span style=white-space:pre-wrap>NA                                                                                                                                      </span></td><td>NA</td><td><span style=white-space:pre-wrap>NA                                                                                                                                                             </span></td><td><span style=white-space:pre-wrap>png                                                        </span></td><td><span style=white-space:pre-wrap>GPL-2 | GPL-3              </span></td><td>NA</td><td>NA</td><td>NA</td><td>NA</td><td>yes</td><td>4.0.2</td></tr>\n",
       "\t<tr><th scope=row>BH</th><td>BH         </td><td>/usr/local/lib/R/site-library                  </td><td>1.72.0-3</td><td>NA</td><td>NA           </td><td>NA                                                                                                                                      </td><td>NA</td><td>NA                                                                                                                                                             </td><td>NA                                                         </td><td>BSL-1.0                    </td><td>NA</td><td>NA</td><td>NA</td><td>NA</td><td>no </td><td>4.0.2</td></tr>\n",
       "\t<tr><th scope=row>brew</th><td>brew       </td><td>/usr/local/lib/R/site-library                  </td><td>1.0-6   </td><td>NA</td><td>NA           </td><td>NA                                                                                                                                      </td><td>NA</td><td>NA                                                                                                                                                             </td><td>NA                                                         </td><td>GPL-2                      </td><td>NA</td><td>NA</td><td>NA</td><td>NA</td><td>NA </td><td>4.0.2</td></tr>\n",
       "\t<tr><th scope=row>callr</th><td><span style=white-space:pre-wrap>callr      </span></td><td><span style=white-space:pre-wrap>/usr/local/lib/R/site-library                  </span></td><td><span style=white-space:pre-wrap>3.4.4   </span></td><td>NA</td><td><span style=white-space:pre-wrap>NA           </span></td><td><span style=white-space:pre-wrap>processx (&gt;= 3.4.0), R6, utils                                                                                                          </span></td><td>NA</td><td><span style=white-space:pre-wrap>cliapp, covr, crayon, fansi, pingr, ps, rprojroot, spelling,\n",
       "testthat, tibble, withr                                                                          </span></td><td><span style=white-space:pre-wrap>NA                                                         </span></td><td><span style=white-space:pre-wrap>MIT + file LICENSE         </span></td><td>NA</td><td>NA</td><td>NA</td><td>NA</td><td>no </td><td>4.0.2</td></tr>\n",
       "\t<tr><th scope=row>cli</th><td><span style=white-space:pre-wrap>cli        </span></td><td><span style=white-space:pre-wrap>/usr/local/lib/R/site-library                  </span></td><td><span style=white-space:pre-wrap>2.0.2   </span></td><td>NA</td><td><span style=white-space:pre-wrap>R (&gt;= 2.10)  </span></td><td><span style=white-space:pre-wrap>assertthat, crayon (&gt;= 1.3.4), glue, methods, utils, fansi                                                                              </span></td><td>NA</td><td><span style=white-space:pre-wrap>callr, covr, htmlwidgets, knitr, mockery, rmarkdown,\n",
       "rstudioapi, prettycode (&gt;= 1.1.0), testthat, withr                                                       </span></td><td><span style=white-space:pre-wrap>NA                                                         </span></td><td><span style=white-space:pre-wrap>MIT + file LICENSE         </span></td><td>NA</td><td>NA</td><td>NA</td><td>NA</td><td>no </td><td>4.0.2</td></tr>\n",
       "\t<tr><th scope=row>clipr</th><td><span style=white-space:pre-wrap>clipr      </span></td><td><span style=white-space:pre-wrap>/usr/local/lib/R/site-library                  </span></td><td><span style=white-space:pre-wrap>0.7.0   </span></td><td>NA</td><td><span style=white-space:pre-wrap>NA           </span></td><td><span style=white-space:pre-wrap>utils                                                                                                                                   </span></td><td>NA</td><td><span style=white-space:pre-wrap>covr, knitr, rmarkdown, rstudioapi (&gt;= 0.5), testthat (&gt;=\n",
       "2.0.0)                                                                                              </span></td><td><span style=white-space:pre-wrap>NA                                                         </span></td><td><span style=white-space:pre-wrap>GPL-3                      </span></td><td>NA</td><td>NA</td><td>NA</td><td>NA</td><td>no </td><td>4.0.2</td></tr>\n",
       "\t<tr><th scope=row>commonmark</th><td>commonmark </td><td>/usr/local/lib/R/site-library                  </td><td>1.7     </td><td>NA</td><td>NA           </td><td>NA                                                                                                                                      </td><td>NA</td><td>curl, testthat, xml2                                                                                                                                           </td><td>NA                                                         </td><td>BSD_2_clause + file LICENSE</td><td>NA</td><td>NA</td><td>NA</td><td>NA</td><td>yes</td><td>4.0.2</td></tr>\n",
       "\t<tr><th scope=row>crayon</th><td>crayon     </td><td>/usr/local/lib/R/site-library                  </td><td>1.3.4   </td><td>NA</td><td>NA           </td><td>grDevices, methods, utils                                                                                                               </td><td>NA</td><td>mockery, rstudioapi, testthat, withr                                                                                                                           </td><td>NA                                                         </td><td>MIT + file LICENSE         </td><td>NA</td><td>NA</td><td>NA</td><td>NA</td><td>no </td><td>4.0.2</td></tr>\n",
       "\t<tr><th scope=row>crosstalk</th><td><span style=white-space:pre-wrap>crosstalk  </span></td><td><span style=white-space:pre-wrap>/usr/local/lib/R/site-library                  </span></td><td>1.1.0.1 </td><td>NA</td><td><span style=white-space:pre-wrap>NA           </span></td><td><span style=white-space:pre-wrap>htmltools (&gt;= 0.3.6), jsonlite, lazyeval, R6                                                                                            </span></td><td>NA</td><td><span style=white-space:pre-wrap>shiny, ggplot2, testthat (&gt;= 2.1.0)                                                                                                                            </span></td><td><span style=white-space:pre-wrap>NA                                                         </span></td><td><span style=white-space:pre-wrap>MIT + file LICENSE         </span></td><td>NA</td><td>NA</td><td>NA</td><td>NA</td><td>no </td><td>4.0.2</td></tr>\n",
       "\t<tr><th scope=row>desc</th><td><span style=white-space:pre-wrap>desc       </span></td><td><span style=white-space:pre-wrap>/usr/local/lib/R/site-library                  </span></td><td><span style=white-space:pre-wrap>1.2.0   </span></td><td>NA</td><td>R (&gt;= 3.1.0) </td><td><span style=white-space:pre-wrap>assertthat, utils, R6, crayon, rprojroot                                                                                                </span></td><td>NA</td><td><span style=white-space:pre-wrap>covr, testthat, whoami, withr                                                                                                                                  </span></td><td><span style=white-space:pre-wrap>NA                                                         </span></td><td><span style=white-space:pre-wrap>MIT + file LICENSE         </span></td><td>NA</td><td>NA</td><td>NA</td><td>NA</td><td>no </td><td>4.0.2</td></tr>\n",
       "\t<tr><th scope=row>digest</th><td><span style=white-space:pre-wrap>digest     </span></td><td><span style=white-space:pre-wrap>/usr/local/lib/R/site-library                  </span></td><td><span style=white-space:pre-wrap>0.6.25  </span></td><td>NA</td><td>R (&gt;= 3.1.0) </td><td><span style=white-space:pre-wrap>utils                                                                                                                                   </span></td><td>NA</td><td><span style=white-space:pre-wrap>tinytest, knitr, rmarkdown                                                                                                                                     </span></td><td><span style=white-space:pre-wrap>NA                                                         </span></td><td><span style=white-space:pre-wrap>GPL (&gt;= 2)                 </span></td><td>NA</td><td>NA</td><td>NA</td><td>NA</td><td>yes</td><td>4.0.2</td></tr>\n",
       "\t<tr><th scope=row>DT</th><td><span style=white-space:pre-wrap>DT         </span></td><td><span style=white-space:pre-wrap>/usr/local/lib/R/site-library                  </span></td><td><span style=white-space:pre-wrap>0.15    </span></td><td>NA</td><td><span style=white-space:pre-wrap>NA           </span></td><td><span style=white-space:pre-wrap>htmltools (&gt;= 0.3.6), htmlwidgets (&gt;= 1.3), jsonlite (&gt;=\n",
       "0.9.16), magrittr, crosstalk, promises                                        </span></td><td>NA</td><td><span style=white-space:pre-wrap>knitr (&gt;= 1.8), rmarkdown, shiny (&gt;= 1.2.0), testit                                                                                                            </span></td><td><span style=white-space:pre-wrap>NA                                                         </span></td><td><span style=white-space:pre-wrap>GPL-3 | file LICENSE       </span></td><td>NA</td><td>NA</td><td>NA</td><td>NA</td><td>no </td><td>4.0.2</td></tr>\n",
       "\t<tr><th scope=row>ellipsis</th><td><span style=white-space:pre-wrap>ellipsis   </span></td><td><span style=white-space:pre-wrap>/usr/local/lib/R/site-library                  </span></td><td><span style=white-space:pre-wrap>0.3.1   </span></td><td>NA</td><td><span style=white-space:pre-wrap>R (&gt;= 3.2)   </span></td><td><span style=white-space:pre-wrap>rlang (&gt;= 0.3.0)                                                                                                                        </span></td><td>NA</td><td><span style=white-space:pre-wrap>covr, testthat                                                                                                                                                 </span></td><td><span style=white-space:pre-wrap>NA                                                         </span></td><td><span style=white-space:pre-wrap>GPL-3                      </span></td><td>NA</td><td>NA</td><td>NA</td><td>NA</td><td>yes</td><td>4.0.2</td></tr>\n",
       "\t<tr><th scope=row>evaluate</th><td><span style=white-space:pre-wrap>evaluate   </span></td><td><span style=white-space:pre-wrap>/usr/local/lib/R/site-library                  </span></td><td><span style=white-space:pre-wrap>0.14    </span></td><td>NA</td><td>R (&gt;= 3.0.2) </td><td><span style=white-space:pre-wrap>methods                                                                                                                                 </span></td><td>NA</td><td><span style=white-space:pre-wrap>testthat, lattice, ggplot2                                                                                                                                     </span></td><td><span style=white-space:pre-wrap>NA                                                         </span></td><td><span style=white-space:pre-wrap>MIT + file LICENSE         </span></td><td>NA</td><td>NA</td><td>NA</td><td>NA</td><td>no </td><td>4.0.2</td></tr>\n",
       "\t<tr><th scope=row>fansi</th><td><span style=white-space:pre-wrap>fansi      </span></td><td><span style=white-space:pre-wrap>/usr/local/lib/R/site-library                  </span></td><td><span style=white-space:pre-wrap>0.4.1   </span></td><td>NA</td><td>R (&gt;= 3.1.0) </td><td><span style=white-space:pre-wrap>NA                                                                                                                                      </span></td><td>NA</td><td><span style=white-space:pre-wrap>unitizer, knitr, rmarkdown                                                                                                                                     </span></td><td><span style=white-space:pre-wrap>NA                                                         </span></td><td><span style=white-space:pre-wrap>GPL (&gt;= 2)                 </span></td><td>NA</td><td>NA</td><td>NA</td><td>NA</td><td>yes</td><td>4.0.2</td></tr>\n",
       "\t<tr><th scope=row>fs</th><td><span style=white-space:pre-wrap>fs         </span></td><td><span style=white-space:pre-wrap>/usr/local/lib/R/site-library                  </span></td><td><span style=white-space:pre-wrap>1.5.0   </span></td><td>NA</td><td><span style=white-space:pre-wrap>R (&gt;= 3.1)   </span></td><td><span style=white-space:pre-wrap>methods                                                                                                                                 </span></td><td>NA</td><td><span style=white-space:pre-wrap>testthat, covr, pillar (&gt;= 1.0.0), tibble (&gt;= 1.1.0), crayon,\n",
       "rmarkdown, knitr, withr, spelling, vctrs (&gt;= 0.3.0)                                             </span></td><td><span style=white-space:pre-wrap>NA                                                         </span></td><td><span style=white-space:pre-wrap>GPL-3                      </span></td><td>NA</td><td>NA</td><td>NA</td><td>NA</td><td>yes</td><td>4.0.2</td></tr>\n",
       "\t<tr><th scope=row>git2r</th><td><span style=white-space:pre-wrap>git2r      </span></td><td><span style=white-space:pre-wrap>/usr/local/lib/R/site-library                  </span></td><td><span style=white-space:pre-wrap>0.27.1  </span></td><td>NA</td><td><span style=white-space:pre-wrap>R (&gt;= 3.1)   </span></td><td><span style=white-space:pre-wrap>graphics, utils                                                                                                                         </span></td><td>NA</td><td><span style=white-space:pre-wrap>getPass                                                                                                                                                        </span></td><td><span style=white-space:pre-wrap>NA                                                         </span></td><td><span style=white-space:pre-wrap>GPL-2                      </span></td><td>NA</td><td>NA</td><td>NA</td><td>NA</td><td>yes</td><td>4.0.2</td></tr>\n",
       "\t<tr><th scope=row>glue</th><td><span style=white-space:pre-wrap>glue       </span></td><td><span style=white-space:pre-wrap>/usr/local/lib/R/site-library                  </span></td><td><span style=white-space:pre-wrap>1.4.2   </span></td><td>NA</td><td><span style=white-space:pre-wrap>R (&gt;= 3.2)   </span></td><td><span style=white-space:pre-wrap>methods                                                                                                                                 </span></td><td>NA</td><td>testthat, covr, magrittr, crayon, knitr, rmarkdown, DBI,\n",
       "RSQLite, R.utils, forcats, microbenchmark, rprintf, stringr,\n",
       "ggplot2, dplyr, withr, vctrs (&gt;= 0.3.0)</td><td><span style=white-space:pre-wrap>NA                                                         </span></td><td><span style=white-space:pre-wrap>MIT + file LICENSE         </span></td><td>NA</td><td>NA</td><td>NA</td><td>NA</td><td>yes</td><td>4.0.2</td></tr>\n",
       "\t<tr><th scope=row>highr</th><td><span style=white-space:pre-wrap>highr      </span></td><td><span style=white-space:pre-wrap>/usr/local/lib/R/site-library                  </span></td><td><span style=white-space:pre-wrap>0.8     </span></td><td>NA</td><td>R (&gt;= 3.2.3) </td><td><span style=white-space:pre-wrap>NA                                                                                                                                      </span></td><td>NA</td><td><span style=white-space:pre-wrap>knitr, testit                                                                                                                                                  </span></td><td><span style=white-space:pre-wrap>NA                                                         </span></td><td><span style=white-space:pre-wrap>GPL                        </span></td><td>NA</td><td>NA</td><td>NA</td><td>NA</td><td>no </td><td>4.0.2</td></tr>\n",
       "\t<tr><th scope=row>htmltools</th><td><span style=white-space:pre-wrap>htmltools  </span></td><td><span style=white-space:pre-wrap>/usr/local/lib/R/site-library                  </span></td><td><span style=white-space:pre-wrap>0.5.0   </span></td><td>NA</td><td>R (&gt;= 2.14.1)</td><td><span style=white-space:pre-wrap>utils, digest, grDevices, base64enc, rlang                                                                                              </span></td><td>NA</td><td><span style=white-space:pre-wrap>markdown, testthat, withr, Cairo, ragg                                                                                                                         </span></td><td><span style=white-space:pre-wrap>knitr                                                      </span></td><td><span style=white-space:pre-wrap>GPL (&gt;= 2)                 </span></td><td>NA</td><td>NA</td><td>NA</td><td>NA</td><td>yes</td><td>4.0.2</td></tr>\n",
       "\t<tr><th scope=row>htmlwidgets</th><td>htmlwidgets</td><td><span style=white-space:pre-wrap>/usr/local/lib/R/site-library                  </span></td><td><span style=white-space:pre-wrap>1.5.1   </span></td><td>NA</td><td><span style=white-space:pre-wrap>NA           </span></td><td><span style=white-space:pre-wrap>grDevices, htmltools (&gt;= 0.3), jsonlite (&gt;= 0.9.16), yaml                                                                               </span></td><td>NA</td><td><span style=white-space:pre-wrap>knitr (&gt;= 1.8)                                                                                                                                                 </span></td><td><span style=white-space:pre-wrap>shiny (&gt;= 1.1)                                             </span></td><td><span style=white-space:pre-wrap>MIT + file LICENSE         </span></td><td>NA</td><td>NA</td><td>NA</td><td>NA</td><td>no </td><td>4.0.2</td></tr>\n",
       "\t<tr><th scope=row>ini</th><td>ini        </td><td>/usr/local/lib/R/site-library                  </td><td>0.3.1   </td><td>NA</td><td>NA           </td><td>NA                                                                                                                                      </td><td>NA</td><td>testthat                                                                                                                                                       </td><td>NA                                                         </td><td>GPL-3                      </td><td>NA</td><td>NA</td><td>NA</td><td>NA</td><td>no </td><td>4.0.2</td></tr>\n",
       "\t<tr><th scope=row>IRdisplay</th><td><span style=white-space:pre-wrap>IRdisplay  </span></td><td><span style=white-space:pre-wrap>/usr/local/lib/R/site-library                  </span></td><td><span style=white-space:pre-wrap>0.7.0   </span></td><td>NA</td><td>R (&gt;= 3.0.1) </td><td><span style=white-space:pre-wrap>methods, repr                                                                                                                           </span></td><td>NA</td><td><span style=white-space:pre-wrap>testthat, withr                                                                                                                                                </span></td><td><span style=white-space:pre-wrap>NA                                                         </span></td><td><span style=white-space:pre-wrap>MIT + file LICENSE         </span></td><td>NA</td><td>NA</td><td>NA</td><td>NA</td><td>no </td><td>4.0.2</td></tr>\n",
       "\t<tr><th scope=row>IRkernel</th><td><span style=white-space:pre-wrap>IRkernel   </span></td><td><span style=white-space:pre-wrap>/usr/local/lib/R/site-library                  </span></td><td><span style=white-space:pre-wrap>1.1.1   </span></td><td>NA</td><td>R (&gt;= 3.2.0) </td><td>repr (&gt;= 0.4.99), methods, evaluate (&gt;= 0.10), IRdisplay (&gt;=\n",
       "0.3.0.9999), pbdZMQ (&gt;= 0.2-1), crayon, jsonlite (&gt;= 0.9.6),\n",
       "uuid, digest</td><td>NA</td><td><span style=white-space:pre-wrap>testthat, roxygen2                                                                                                                                             </span></td><td><span style=white-space:pre-wrap>NA                                                         </span></td><td><span style=white-space:pre-wrap>MIT + file LICENSE         </span></td><td>NA</td><td>NA</td><td>NA</td><td>NA</td><td>no </td><td>4.0.2</td></tr>\n",
       "\t<tr><th scope=row>⋮</th><td>⋮</td><td>⋮</td><td>⋮</td><td>⋮</td><td>⋮</td><td>⋮</td><td>⋮</td><td>⋮</td><td>⋮</td><td>⋮</td><td>⋮</td><td>⋮</td><td>⋮</td><td>⋮</td><td>⋮</td><td>⋮</td></tr>\n",
       "\t<tr><th scope=row>yaml</th><td>yaml      </td><td>/usr/local/lib/R/site-library</td><td>2.2.1  </td><td>NA         </td><td>NA                                             </td><td>NA                                              </td><td>NA</td><td>RUnit                                     </td><td>NA                                   </td><td>BSD_3_clause + file LICENSE</td><td>NA</td><td>NA</td><td>NA</td><td>NA</td><td>yes</td><td>4.0.2</td></tr>\n",
       "\t<tr><th scope=row>base</th><td>base      </td><td>/usr/lib/R/library           </td><td>4.0.2  </td><td>base       </td><td>NA                                             </td><td>NA                                              </td><td>NA</td><td>methods                                   </td><td>NA                                   </td><td>Part of R 4.0.2            </td><td>NA</td><td>NA</td><td>NA</td><td>NA</td><td>NA </td><td>4.0.2</td></tr>\n",
       "\t<tr><th scope=row>boot</th><td><span style=white-space:pre-wrap>boot      </span></td><td><span style=white-space:pre-wrap>/usr/lib/R/library           </span></td><td>1.3-25 </td><td>recommended</td><td><span style=white-space:pre-wrap>R (&gt;= 3.0.0), graphics, stats                  </span></td><td><span style=white-space:pre-wrap>NA                                              </span></td><td>NA</td><td><span style=white-space:pre-wrap>MASS, survival                            </span></td><td><span style=white-space:pre-wrap>NA                                   </span></td><td><span style=white-space:pre-wrap>Unlimited                  </span></td><td>NA</td><td>NA</td><td>NA</td><td>NA</td><td>no </td><td>4.0.0</td></tr>\n",
       "\t<tr><th scope=row>class</th><td><span style=white-space:pre-wrap>class     </span></td><td><span style=white-space:pre-wrap>/usr/lib/R/library           </span></td><td>7.3-17 </td><td>recommended</td><td><span style=white-space:pre-wrap>R (&gt;= 3.0.0), stats, utils                     </span></td><td><span style=white-space:pre-wrap>MASS                                            </span></td><td>NA</td><td><span style=white-space:pre-wrap>NA                                        </span></td><td><span style=white-space:pre-wrap>NA                                   </span></td><td><span style=white-space:pre-wrap>GPL-2 | GPL-3              </span></td><td>NA</td><td>NA</td><td>NA</td><td>NA</td><td>yes</td><td>4.0.0</td></tr>\n",
       "\t<tr><th scope=row>cluster</th><td><span style=white-space:pre-wrap>cluster   </span></td><td><span style=white-space:pre-wrap>/usr/lib/R/library           </span></td><td><span style=white-space:pre-wrap>2.1.0  </span></td><td>recommended</td><td><span style=white-space:pre-wrap>R (&gt;= 3.3.0)                                   </span></td><td><span style=white-space:pre-wrap>graphics, grDevices, stats, utils               </span></td><td>NA</td><td><span style=white-space:pre-wrap>MASS, Matrix                              </span></td><td><span style=white-space:pre-wrap>NA                                   </span></td><td><span style=white-space:pre-wrap>GPL (&gt;= 2)                 </span></td><td>NA</td><td>NA</td><td>NA</td><td>NA</td><td>yes</td><td>4.0.0</td></tr>\n",
       "\t<tr><th scope=row>codetools</th><td>codetools </td><td><span style=white-space:pre-wrap>/usr/lib/R/library           </span></td><td>0.2-16 </td><td>recommended</td><td><span style=white-space:pre-wrap>R (&gt;= 2.1)                                     </span></td><td><span style=white-space:pre-wrap>NA                                              </span></td><td>NA</td><td><span style=white-space:pre-wrap>NA                                        </span></td><td><span style=white-space:pre-wrap>NA                                   </span></td><td><span style=white-space:pre-wrap>GPL                        </span></td><td>NA</td><td>NA</td><td>NA</td><td>NA</td><td>no </td><td>4.0.0</td></tr>\n",
       "\t<tr><th scope=row>compiler</th><td>compiler  </td><td>/usr/lib/R/library           </td><td>4.0.2  </td><td>base       </td><td>NA                                             </td><td>NA                                              </td><td>NA</td><td>NA                                        </td><td>NA                                   </td><td>Part of R 4.0.2            </td><td>NA</td><td>NA</td><td>NA</td><td>NA</td><td>NA </td><td>4.0.2</td></tr>\n",
       "\t<tr><th scope=row>datasets</th><td>datasets  </td><td>/usr/lib/R/library           </td><td>4.0.2  </td><td>base       </td><td>NA                                             </td><td>NA                                              </td><td>NA</td><td>NA                                        </td><td>NA                                   </td><td>Part of R 4.0.2            </td><td>NA</td><td>NA</td><td>NA</td><td>NA</td><td>NA </td><td>4.0.2</td></tr>\n",
       "\t<tr><th scope=row>foreign</th><td><span style=white-space:pre-wrap>foreign   </span></td><td><span style=white-space:pre-wrap>/usr/lib/R/library           </span></td><td>0.8-79 </td><td>recommended</td><td><span style=white-space:pre-wrap>R (&gt;= 4.0.0)                                   </span></td><td><span style=white-space:pre-wrap>methods, utils, stats                           </span></td><td>NA</td><td><span style=white-space:pre-wrap>NA                                        </span></td><td><span style=white-space:pre-wrap>NA                                   </span></td><td><span style=white-space:pre-wrap>GPL (&gt;= 2)                 </span></td><td>NA</td><td>NA</td><td>NA</td><td>NA</td><td>yes</td><td>4.0.0</td></tr>\n",
       "\t<tr><th scope=row>graphics</th><td>graphics  </td><td>/usr/lib/R/library           </td><td>4.0.2  </td><td>base       </td><td>NA                                             </td><td>grDevices                                       </td><td>NA</td><td>NA                                        </td><td>NA                                   </td><td>Part of R 4.0.2            </td><td>NA</td><td>NA</td><td>NA</td><td>NA</td><td>yes</td><td>4.0.2</td></tr>\n",
       "\t<tr><th scope=row>grDevices</th><td>grDevices </td><td>/usr/lib/R/library           </td><td>4.0.2  </td><td>base       </td><td>NA                                             </td><td>NA                                              </td><td>NA</td><td>KernSmooth                                </td><td>NA                                   </td><td>Part of R 4.0.2            </td><td>NA</td><td>NA</td><td>NA</td><td>NA</td><td>yes</td><td>4.0.2</td></tr>\n",
       "\t<tr><th scope=row>grid</th><td>grid      </td><td>/usr/lib/R/library           </td><td>4.0.2  </td><td>base       </td><td>NA                                             </td><td>grDevices, utils                                </td><td>NA</td><td>lattice                                   </td><td>NA                                   </td><td>Part of R 4.0.2            </td><td>NA</td><td>NA</td><td>NA</td><td>NA</td><td>yes</td><td>4.0.2</td></tr>\n",
       "\t<tr><th scope=row>KernSmooth</th><td>KernSmooth</td><td><span style=white-space:pre-wrap>/usr/lib/R/library           </span></td><td>2.23-17</td><td>recommended</td><td><span style=white-space:pre-wrap>R (&gt;= 2.5.0), stats                            </span></td><td><span style=white-space:pre-wrap>NA                                              </span></td><td>NA</td><td><span style=white-space:pre-wrap>MASS                                      </span></td><td><span style=white-space:pre-wrap>NA                                   </span></td><td><span style=white-space:pre-wrap>Unlimited                  </span></td><td>NA</td><td>NA</td><td>NA</td><td>NA</td><td>yes</td><td>4.0.0</td></tr>\n",
       "\t<tr><th scope=row>lattice</th><td><span style=white-space:pre-wrap>lattice   </span></td><td><span style=white-space:pre-wrap>/usr/lib/R/library           </span></td><td>0.20-41</td><td>recommended</td><td><span style=white-space:pre-wrap>R (&gt;= 3.0.0)                                   </span></td><td><span style=white-space:pre-wrap>grid, grDevices, graphics, stats, utils         </span></td><td>NA</td><td><span style=white-space:pre-wrap>KernSmooth, MASS, latticeExtra            </span></td><td><span style=white-space:pre-wrap>chron                                </span></td><td><span style=white-space:pre-wrap>GPL (&gt;= 2)                 </span></td><td>NA</td><td>NA</td><td>NA</td><td>NA</td><td>yes</td><td>4.0.0</td></tr>\n",
       "\t<tr><th scope=row>MASS</th><td><span style=white-space:pre-wrap>MASS      </span></td><td><span style=white-space:pre-wrap>/usr/lib/R/library           </span></td><td>7.3-52 </td><td>recommended</td><td>R (&gt;= 3.1.0), grDevices, graphics, stats, utils</td><td><span style=white-space:pre-wrap>methods                                         </span></td><td>NA</td><td><span style=white-space:pre-wrap>lattice, nlme, nnet, survival             </span></td><td><span style=white-space:pre-wrap>NA                                   </span></td><td><span style=white-space:pre-wrap>GPL-2 | GPL-3              </span></td><td>NA</td><td>NA</td><td>NA</td><td>NA</td><td>yes</td><td>4.0.2</td></tr>\n",
       "\t<tr><th scope=row>Matrix</th><td><span style=white-space:pre-wrap>Matrix    </span></td><td><span style=white-space:pre-wrap>/usr/lib/R/library           </span></td><td>1.2-18 </td><td>recommended</td><td><span style=white-space:pre-wrap>R (&gt;= 3.2.0)                                   </span></td><td><span style=white-space:pre-wrap>methods, graphics, grid, stats, utils, lattice  </span></td><td>NA</td><td><span style=white-space:pre-wrap>expm, MASS                                </span></td><td>MatrixModels, graph, SparseM, sfsmisc</td><td><span style=white-space:pre-wrap>GPL (&gt;= 2) | file LICENCE  </span></td><td>NA</td><td>NA</td><td>NA</td><td>NA</td><td>yes</td><td>4.0.0</td></tr>\n",
       "\t<tr><th scope=row>methods</th><td>methods   </td><td>/usr/lib/R/library           </td><td>4.0.2  </td><td>base       </td><td>NA                                             </td><td>utils, stats                                    </td><td>NA</td><td>codetools                                 </td><td>NA                                   </td><td>Part of R 4.0.2            </td><td>NA</td><td>NA</td><td>NA</td><td>NA</td><td>yes</td><td>4.0.2</td></tr>\n",
       "\t<tr><th scope=row>mgcv</th><td><span style=white-space:pre-wrap>mgcv      </span></td><td><span style=white-space:pre-wrap>/usr/lib/R/library           </span></td><td>1.8-33 </td><td>recommended</td><td><span style=white-space:pre-wrap>R (&gt;= 2.14.0), nlme (&gt;= 3.1-64)                </span></td><td>methods, stats, graphics, Matrix, splines, utils</td><td>NA</td><td><span style=white-space:pre-wrap>parallel, survival, MASS                  </span></td><td><span style=white-space:pre-wrap>NA                                   </span></td><td><span style=white-space:pre-wrap>GPL (&gt;= 2)                 </span></td><td>NA</td><td>NA</td><td>NA</td><td>NA</td><td>yes</td><td>4.0.2</td></tr>\n",
       "\t<tr><th scope=row>nlme</th><td><span style=white-space:pre-wrap>nlme      </span></td><td><span style=white-space:pre-wrap>/usr/lib/R/library           </span></td><td>3.1-149</td><td>recommended</td><td><span style=white-space:pre-wrap>R (&gt;= 3.4.0)                                   </span></td><td><span style=white-space:pre-wrap>graphics, stats, utils, lattice                 </span></td><td>NA</td><td><span style=white-space:pre-wrap>Hmisc, MASS                               </span></td><td><span style=white-space:pre-wrap>NA                                   </span></td><td><span style=white-space:pre-wrap>GPL (&gt;= 2) | file LICENCE  </span></td><td>NA</td><td>NA</td><td>NA</td><td>NA</td><td>yes</td><td>4.0.2</td></tr>\n",
       "\t<tr><th scope=row>nnet</th><td><span style=white-space:pre-wrap>nnet      </span></td><td><span style=white-space:pre-wrap>/usr/lib/R/library           </span></td><td>7.3-14 </td><td>recommended</td><td><span style=white-space:pre-wrap>R (&gt;= 3.0.0), stats, utils                     </span></td><td><span style=white-space:pre-wrap>NA                                              </span></td><td>NA</td><td><span style=white-space:pre-wrap>MASS                                      </span></td><td><span style=white-space:pre-wrap>NA                                   </span></td><td><span style=white-space:pre-wrap>GPL-2 | GPL-3              </span></td><td>NA</td><td>NA</td><td>NA</td><td>NA</td><td>yes</td><td>4.0.0</td></tr>\n",
       "\t<tr><th scope=row>parallel</th><td>parallel  </td><td>/usr/lib/R/library           </td><td>4.0.2  </td><td>base       </td><td>NA                                             </td><td>tools, compiler                                 </td><td>NA</td><td>methods                                   </td><td>snow, nws, Rmpi                      </td><td>Part of R 4.0.2            </td><td>NA</td><td>NA</td><td>NA</td><td>NA</td><td>yes</td><td>4.0.2</td></tr>\n",
       "\t<tr><th scope=row>rpart</th><td><span style=white-space:pre-wrap>rpart     </span></td><td><span style=white-space:pre-wrap>/usr/lib/R/library           </span></td><td>4.1-15 </td><td>recommended</td><td><span style=white-space:pre-wrap>R (&gt;= 2.15.0), graphics, stats, grDevices      </span></td><td><span style=white-space:pre-wrap>NA                                              </span></td><td>NA</td><td><span style=white-space:pre-wrap>survival                                  </span></td><td><span style=white-space:pre-wrap>NA                                   </span></td><td><span style=white-space:pre-wrap>GPL-2 | GPL-3              </span></td><td>NA</td><td>NA</td><td>NA</td><td>NA</td><td>yes</td><td>4.0.0</td></tr>\n",
       "\t<tr><th scope=row>spatial</th><td><span style=white-space:pre-wrap>spatial   </span></td><td><span style=white-space:pre-wrap>/usr/lib/R/library           </span></td><td>7.3-11 </td><td>recommended</td><td><span style=white-space:pre-wrap>R (&gt;= 3.0.0), graphics, stats, utils           </span></td><td><span style=white-space:pre-wrap>NA                                              </span></td><td>NA</td><td><span style=white-space:pre-wrap>MASS                                      </span></td><td><span style=white-space:pre-wrap>NA                                   </span></td><td><span style=white-space:pre-wrap>GPL-2 | GPL-3              </span></td><td>NA</td><td>NA</td><td>NA</td><td>NA</td><td>yes</td><td>4.0.0</td></tr>\n",
       "\t<tr><th scope=row>splines</th><td>splines   </td><td>/usr/lib/R/library           </td><td>4.0.2  </td><td>base       </td><td>NA                                             </td><td>graphics, stats                                 </td><td>NA</td><td>Matrix, methods                           </td><td>NA                                   </td><td>Part of R 4.0.2            </td><td>NA</td><td>NA</td><td>NA</td><td>NA</td><td>yes</td><td>4.0.2</td></tr>\n",
       "\t<tr><th scope=row>stats</th><td>stats     </td><td>/usr/lib/R/library           </td><td>4.0.2  </td><td>base       </td><td>NA                                             </td><td>utils, grDevices, graphics                      </td><td>NA</td><td>MASS, Matrix, SuppDists, methods, stats4  </td><td>NA                                   </td><td>Part of R 4.0.2            </td><td>NA</td><td>NA</td><td>NA</td><td>NA</td><td>yes</td><td>4.0.2</td></tr>\n",
       "\t<tr><th scope=row>stats4</th><td>stats4    </td><td>/usr/lib/R/library           </td><td>4.0.2  </td><td>base       </td><td>NA                                             </td><td>graphics, methods, stats                        </td><td>NA</td><td>NA                                        </td><td>NA                                   </td><td>Part of R 4.0.2            </td><td>NA</td><td>NA</td><td>NA</td><td>NA</td><td>NA </td><td>4.0.2</td></tr>\n",
       "\t<tr><th scope=row>survival</th><td><span style=white-space:pre-wrap>survival  </span></td><td><span style=white-space:pre-wrap>/usr/lib/R/library           </span></td><td>3.1-12 </td><td>recommended</td><td><span style=white-space:pre-wrap>R (&gt;= 3.4.0)                                   </span></td><td>graphics, Matrix, methods, splines, stats, utils</td><td>NA</td><td><span style=white-space:pre-wrap>NA                                        </span></td><td><span style=white-space:pre-wrap>NA                                   </span></td><td><span style=white-space:pre-wrap>LGPL (&gt;= 2)                </span></td><td>NA</td><td>NA</td><td>NA</td><td>NA</td><td>yes</td><td>4.0.0</td></tr>\n",
       "\t<tr><th scope=row>tcltk</th><td>tcltk     </td><td>/usr/lib/R/library           </td><td>4.0.2  </td><td>base       </td><td>NA                                             </td><td>utils                                           </td><td>NA</td><td>NA                                        </td><td>NA                                   </td><td>Part of R 4.0.2            </td><td>NA</td><td>NA</td><td>NA</td><td>NA</td><td>yes</td><td>4.0.2</td></tr>\n",
       "\t<tr><th scope=row>tools</th><td>tools     </td><td>/usr/lib/R/library           </td><td>4.0.2  </td><td>base       </td><td>NA                                             </td><td>NA                                              </td><td>NA</td><td>codetools, methods, xml2, curl, commonmark</td><td>NA                                   </td><td>Part of R 4.0.2            </td><td>NA</td><td>NA</td><td>NA</td><td>NA</td><td>yes</td><td>4.0.2</td></tr>\n",
       "\t<tr><th scope=row>utils</th><td>utils     </td><td>/usr/lib/R/library           </td><td>4.0.2  </td><td>base       </td><td>NA                                             </td><td>NA                                              </td><td>NA</td><td>methods, xml2, commonmark                 </td><td>NA                                   </td><td>Part of R 4.0.2            </td><td>NA</td><td>NA</td><td>NA</td><td>NA</td><td>yes</td><td>4.0.2</td></tr>\n",
       "</tbody>\n",
       "</table>\n"
      ],
      "text/latex": [
       "A matrix: 105 × 16 of type chr\n",
       "\\begin{tabular}{r|llllllllllllllll}\n",
       "  & Package & LibPath & Version & Priority & Depends & Imports & LinkingTo & Suggests & Enhances & License & License\\_is\\_FOSS & License\\_restricts\\_use & OS\\_type & MD5sum & NeedsCompilation & Built\\\\\n",
       "\\hline\n",
       "\tIRdisplay & IRdisplay   & /home/betania/R/x86\\_64-pc-linux-gnu-library/4.0 & 0.7.0    & NA & R (>= 3.0.1)  & methods, repr                                                                                                                            & NA & testthat, withr                                                                                                                                                 & NA                                                          & MIT + file LICENSE          & NA & NA & NA & NA & no  & 4.0.2\\\\\n",
       "\tIRkernel & IRkernel    & /home/betania/R/x86\\_64-pc-linux-gnu-library/4.0 & 1.1.1    & NA & R (>= 3.2.0)  & repr (>= 0.4.99), methods, evaluate (>= 0.10), IRdisplay (>=\n",
       "0.3.0.9999), pbdZMQ (>= 0.2-1), crayon, jsonlite (>= 0.9.6),\n",
       "uuid, digest & NA & testthat, roxygen2                                                                                                                                              & NA                                                          & MIT + file LICENSE          & NA & NA & NA & NA & no  & 4.0.2\\\\\n",
       "\trepr & repr        & /home/betania/R/x86\\_64-pc-linux-gnu-library/4.0 & 1.1.0    & NA & R (>= 3.0.1)  & utils, grDevices, htmltools, jsonlite, pillar (>= 1.4.0),\n",
       "base64enc                                                                     & NA & methods, highr, Cairo, stringr, testthat, diffobj (>= 0.2.3),\n",
       "leaflet                                                                                          & data.table, dplyr, htmlwidgets, vegalite, plotly, geojsonio & GPL-3                       & NA & NA & NA & NA & no  & 4.0.2\\\\\n",
       "\taskpass & askpass     & /usr/local/lib/R/site-library                   & 1.1      & NA & NA            & sys (>= 2.1)                                                                                                                             & NA & testthat                                                                                                                                                        & NA                                                          & MIT + file LICENSE          & NA & NA & NA & NA & yes & 4.0.2\\\\\n",
       "\tassertthat & assertthat  & /usr/local/lib/R/site-library                   & 0.2.1    & NA & NA            & tools                                                                                                                                    & NA & testthat, covr                                                                                                                                                  & NA                                                          & GPL-3                       & NA & NA & NA & NA & no  & 4.0.2\\\\\n",
       "\tbackports & backports   & /usr/local/lib/R/site-library                   & 1.1.9    & NA & R (>= 3.0.0)  & utils                                                                                                                                    & NA & NA                                                                                                                                                              & NA                                                          & GPL-2 \\textbar{} GPL-3               & NA & NA & NA & NA & yes & 4.0.2\\\\\n",
       "\tbase64enc & base64enc   & /usr/local/lib/R/site-library                   & 0.1-3    & NA & R (>= 2.9.0)  & NA                                                                                                                                       & NA & NA                                                                                                                                                              & png                                                         & GPL-2 \\textbar{} GPL-3               & NA & NA & NA & NA & yes & 4.0.2\\\\\n",
       "\tBH & BH          & /usr/local/lib/R/site-library                   & 1.72.0-3 & NA & NA            & NA                                                                                                                                       & NA & NA                                                                                                                                                              & NA                                                          & BSL-1.0                     & NA & NA & NA & NA & no  & 4.0.2\\\\\n",
       "\tbrew & brew        & /usr/local/lib/R/site-library                   & 1.0-6    & NA & NA            & NA                                                                                                                                       & NA & NA                                                                                                                                                              & NA                                                          & GPL-2                       & NA & NA & NA & NA & NA  & 4.0.2\\\\\n",
       "\tcallr & callr       & /usr/local/lib/R/site-library                   & 3.4.4    & NA & NA            & processx (>= 3.4.0), R6, utils                                                                                                           & NA & cliapp, covr, crayon, fansi, pingr, ps, rprojroot, spelling,\n",
       "testthat, tibble, withr                                                                           & NA                                                          & MIT + file LICENSE          & NA & NA & NA & NA & no  & 4.0.2\\\\\n",
       "\tcli & cli         & /usr/local/lib/R/site-library                   & 2.0.2    & NA & R (>= 2.10)   & assertthat, crayon (>= 1.3.4), glue, methods, utils, fansi                                                                               & NA & callr, covr, htmlwidgets, knitr, mockery, rmarkdown,\n",
       "rstudioapi, prettycode (>= 1.1.0), testthat, withr                                                        & NA                                                          & MIT + file LICENSE          & NA & NA & NA & NA & no  & 4.0.2\\\\\n",
       "\tclipr & clipr       & /usr/local/lib/R/site-library                   & 0.7.0    & NA & NA            & utils                                                                                                                                    & NA & covr, knitr, rmarkdown, rstudioapi (>= 0.5), testthat (>=\n",
       "2.0.0)                                                                                               & NA                                                          & GPL-3                       & NA & NA & NA & NA & no  & 4.0.2\\\\\n",
       "\tcommonmark & commonmark  & /usr/local/lib/R/site-library                   & 1.7      & NA & NA            & NA                                                                                                                                       & NA & curl, testthat, xml2                                                                                                                                            & NA                                                          & BSD\\_2\\_clause + file LICENSE & NA & NA & NA & NA & yes & 4.0.2\\\\\n",
       "\tcrayon & crayon      & /usr/local/lib/R/site-library                   & 1.3.4    & NA & NA            & grDevices, methods, utils                                                                                                                & NA & mockery, rstudioapi, testthat, withr                                                                                                                            & NA                                                          & MIT + file LICENSE          & NA & NA & NA & NA & no  & 4.0.2\\\\\n",
       "\tcrosstalk & crosstalk   & /usr/local/lib/R/site-library                   & 1.1.0.1  & NA & NA            & htmltools (>= 0.3.6), jsonlite, lazyeval, R6                                                                                             & NA & shiny, ggplot2, testthat (>= 2.1.0)                                                                                                                             & NA                                                          & MIT + file LICENSE          & NA & NA & NA & NA & no  & 4.0.2\\\\\n",
       "\tdesc & desc        & /usr/local/lib/R/site-library                   & 1.2.0    & NA & R (>= 3.1.0)  & assertthat, utils, R6, crayon, rprojroot                                                                                                 & NA & covr, testthat, whoami, withr                                                                                                                                   & NA                                                          & MIT + file LICENSE          & NA & NA & NA & NA & no  & 4.0.2\\\\\n",
       "\tdigest & digest      & /usr/local/lib/R/site-library                   & 0.6.25   & NA & R (>= 3.1.0)  & utils                                                                                                                                    & NA & tinytest, knitr, rmarkdown                                                                                                                                      & NA                                                          & GPL (>= 2)                  & NA & NA & NA & NA & yes & 4.0.2\\\\\n",
       "\tDT & DT          & /usr/local/lib/R/site-library                   & 0.15     & NA & NA            & htmltools (>= 0.3.6), htmlwidgets (>= 1.3), jsonlite (>=\n",
       "0.9.16), magrittr, crosstalk, promises                                         & NA & knitr (>= 1.8), rmarkdown, shiny (>= 1.2.0), testit                                                                                                             & NA                                                          & GPL-3 \\textbar{} file LICENSE        & NA & NA & NA & NA & no  & 4.0.2\\\\\n",
       "\tellipsis & ellipsis    & /usr/local/lib/R/site-library                   & 0.3.1    & NA & R (>= 3.2)    & rlang (>= 0.3.0)                                                                                                                         & NA & covr, testthat                                                                                                                                                  & NA                                                          & GPL-3                       & NA & NA & NA & NA & yes & 4.0.2\\\\\n",
       "\tevaluate & evaluate    & /usr/local/lib/R/site-library                   & 0.14     & NA & R (>= 3.0.2)  & methods                                                                                                                                  & NA & testthat, lattice, ggplot2                                                                                                                                      & NA                                                          & MIT + file LICENSE          & NA & NA & NA & NA & no  & 4.0.2\\\\\n",
       "\tfansi & fansi       & /usr/local/lib/R/site-library                   & 0.4.1    & NA & R (>= 3.1.0)  & NA                                                                                                                                       & NA & unitizer, knitr, rmarkdown                                                                                                                                      & NA                                                          & GPL (>= 2)                  & NA & NA & NA & NA & yes & 4.0.2\\\\\n",
       "\tfs & fs          & /usr/local/lib/R/site-library                   & 1.5.0    & NA & R (>= 3.1)    & methods                                                                                                                                  & NA & testthat, covr, pillar (>= 1.0.0), tibble (>= 1.1.0), crayon,\n",
       "rmarkdown, knitr, withr, spelling, vctrs (>= 0.3.0)                                              & NA                                                          & GPL-3                       & NA & NA & NA & NA & yes & 4.0.2\\\\\n",
       "\tgit2r & git2r       & /usr/local/lib/R/site-library                   & 0.27.1   & NA & R (>= 3.1)    & graphics, utils                                                                                                                          & NA & getPass                                                                                                                                                         & NA                                                          & GPL-2                       & NA & NA & NA & NA & yes & 4.0.2\\\\\n",
       "\tglue & glue        & /usr/local/lib/R/site-library                   & 1.4.2    & NA & R (>= 3.2)    & methods                                                                                                                                  & NA & testthat, covr, magrittr, crayon, knitr, rmarkdown, DBI,\n",
       "RSQLite, R.utils, forcats, microbenchmark, rprintf, stringr,\n",
       "ggplot2, dplyr, withr, vctrs (>= 0.3.0) & NA                                                          & MIT + file LICENSE          & NA & NA & NA & NA & yes & 4.0.2\\\\\n",
       "\thighr & highr       & /usr/local/lib/R/site-library                   & 0.8      & NA & R (>= 3.2.3)  & NA                                                                                                                                       & NA & knitr, testit                                                                                                                                                   & NA                                                          & GPL                         & NA & NA & NA & NA & no  & 4.0.2\\\\\n",
       "\thtmltools & htmltools   & /usr/local/lib/R/site-library                   & 0.5.0    & NA & R (>= 2.14.1) & utils, digest, grDevices, base64enc, rlang                                                                                               & NA & markdown, testthat, withr, Cairo, ragg                                                                                                                          & knitr                                                       & GPL (>= 2)                  & NA & NA & NA & NA & yes & 4.0.2\\\\\n",
       "\thtmlwidgets & htmlwidgets & /usr/local/lib/R/site-library                   & 1.5.1    & NA & NA            & grDevices, htmltools (>= 0.3), jsonlite (>= 0.9.16), yaml                                                                                & NA & knitr (>= 1.8)                                                                                                                                                  & shiny (>= 1.1)                                              & MIT + file LICENSE          & NA & NA & NA & NA & no  & 4.0.2\\\\\n",
       "\tini & ini         & /usr/local/lib/R/site-library                   & 0.3.1    & NA & NA            & NA                                                                                                                                       & NA & testthat                                                                                                                                                        & NA                                                          & GPL-3                       & NA & NA & NA & NA & no  & 4.0.2\\\\\n",
       "\tIRdisplay & IRdisplay   & /usr/local/lib/R/site-library                   & 0.7.0    & NA & R (>= 3.0.1)  & methods, repr                                                                                                                            & NA & testthat, withr                                                                                                                                                 & NA                                                          & MIT + file LICENSE          & NA & NA & NA & NA & no  & 4.0.2\\\\\n",
       "\tIRkernel & IRkernel    & /usr/local/lib/R/site-library                   & 1.1.1    & NA & R (>= 3.2.0)  & repr (>= 0.4.99), methods, evaluate (>= 0.10), IRdisplay (>=\n",
       "0.3.0.9999), pbdZMQ (>= 0.2-1), crayon, jsonlite (>= 0.9.6),\n",
       "uuid, digest & NA & testthat, roxygen2                                                                                                                                              & NA                                                          & MIT + file LICENSE          & NA & NA & NA & NA & no  & 4.0.2\\\\\n",
       "\t⋮ & ⋮ & ⋮ & ⋮ & ⋮ & ⋮ & ⋮ & ⋮ & ⋮ & ⋮ & ⋮ & ⋮ & ⋮ & ⋮ & ⋮ & ⋮ & ⋮\\\\\n",
       "\tyaml & yaml       & /usr/local/lib/R/site-library & 2.2.1   & NA          & NA                                              & NA                                               & NA & RUnit                                      & NA                                    & BSD\\_3\\_clause + file LICENSE & NA & NA & NA & NA & yes & 4.0.2\\\\\n",
       "\tbase & base       & /usr/lib/R/library            & 4.0.2   & base        & NA                                              & NA                                               & NA & methods                                    & NA                                    & Part of R 4.0.2             & NA & NA & NA & NA & NA  & 4.0.2\\\\\n",
       "\tboot & boot       & /usr/lib/R/library            & 1.3-25  & recommended & R (>= 3.0.0), graphics, stats                   & NA                                               & NA & MASS, survival                             & NA                                    & Unlimited                   & NA & NA & NA & NA & no  & 4.0.0\\\\\n",
       "\tclass & class      & /usr/lib/R/library            & 7.3-17  & recommended & R (>= 3.0.0), stats, utils                      & MASS                                             & NA & NA                                         & NA                                    & GPL-2 \\textbar{} GPL-3               & NA & NA & NA & NA & yes & 4.0.0\\\\\n",
       "\tcluster & cluster    & /usr/lib/R/library            & 2.1.0   & recommended & R (>= 3.3.0)                                    & graphics, grDevices, stats, utils                & NA & MASS, Matrix                               & NA                                    & GPL (>= 2)                  & NA & NA & NA & NA & yes & 4.0.0\\\\\n",
       "\tcodetools & codetools  & /usr/lib/R/library            & 0.2-16  & recommended & R (>= 2.1)                                      & NA                                               & NA & NA                                         & NA                                    & GPL                         & NA & NA & NA & NA & no  & 4.0.0\\\\\n",
       "\tcompiler & compiler   & /usr/lib/R/library            & 4.0.2   & base        & NA                                              & NA                                               & NA & NA                                         & NA                                    & Part of R 4.0.2             & NA & NA & NA & NA & NA  & 4.0.2\\\\\n",
       "\tdatasets & datasets   & /usr/lib/R/library            & 4.0.2   & base        & NA                                              & NA                                               & NA & NA                                         & NA                                    & Part of R 4.0.2             & NA & NA & NA & NA & NA  & 4.0.2\\\\\n",
       "\tforeign & foreign    & /usr/lib/R/library            & 0.8-79  & recommended & R (>= 4.0.0)                                    & methods, utils, stats                            & NA & NA                                         & NA                                    & GPL (>= 2)                  & NA & NA & NA & NA & yes & 4.0.0\\\\\n",
       "\tgraphics & graphics   & /usr/lib/R/library            & 4.0.2   & base        & NA                                              & grDevices                                        & NA & NA                                         & NA                                    & Part of R 4.0.2             & NA & NA & NA & NA & yes & 4.0.2\\\\\n",
       "\tgrDevices & grDevices  & /usr/lib/R/library            & 4.0.2   & base        & NA                                              & NA                                               & NA & KernSmooth                                 & NA                                    & Part of R 4.0.2             & NA & NA & NA & NA & yes & 4.0.2\\\\\n",
       "\tgrid & grid       & /usr/lib/R/library            & 4.0.2   & base        & NA                                              & grDevices, utils                                 & NA & lattice                                    & NA                                    & Part of R 4.0.2             & NA & NA & NA & NA & yes & 4.0.2\\\\\n",
       "\tKernSmooth & KernSmooth & /usr/lib/R/library            & 2.23-17 & recommended & R (>= 2.5.0), stats                             & NA                                               & NA & MASS                                       & NA                                    & Unlimited                   & NA & NA & NA & NA & yes & 4.0.0\\\\\n",
       "\tlattice & lattice    & /usr/lib/R/library            & 0.20-41 & recommended & R (>= 3.0.0)                                    & grid, grDevices, graphics, stats, utils          & NA & KernSmooth, MASS, latticeExtra             & chron                                 & GPL (>= 2)                  & NA & NA & NA & NA & yes & 4.0.0\\\\\n",
       "\tMASS & MASS       & /usr/lib/R/library            & 7.3-52  & recommended & R (>= 3.1.0), grDevices, graphics, stats, utils & methods                                          & NA & lattice, nlme, nnet, survival              & NA                                    & GPL-2 \\textbar{} GPL-3               & NA & NA & NA & NA & yes & 4.0.2\\\\\n",
       "\tMatrix & Matrix     & /usr/lib/R/library            & 1.2-18  & recommended & R (>= 3.2.0)                                    & methods, graphics, grid, stats, utils, lattice   & NA & expm, MASS                                 & MatrixModels, graph, SparseM, sfsmisc & GPL (>= 2) \\textbar{} file LICENCE   & NA & NA & NA & NA & yes & 4.0.0\\\\\n",
       "\tmethods & methods    & /usr/lib/R/library            & 4.0.2   & base        & NA                                              & utils, stats                                     & NA & codetools                                  & NA                                    & Part of R 4.0.2             & NA & NA & NA & NA & yes & 4.0.2\\\\\n",
       "\tmgcv & mgcv       & /usr/lib/R/library            & 1.8-33  & recommended & R (>= 2.14.0), nlme (>= 3.1-64)                 & methods, stats, graphics, Matrix, splines, utils & NA & parallel, survival, MASS                   & NA                                    & GPL (>= 2)                  & NA & NA & NA & NA & yes & 4.0.2\\\\\n",
       "\tnlme & nlme       & /usr/lib/R/library            & 3.1-149 & recommended & R (>= 3.4.0)                                    & graphics, stats, utils, lattice                  & NA & Hmisc, MASS                                & NA                                    & GPL (>= 2) \\textbar{} file LICENCE   & NA & NA & NA & NA & yes & 4.0.2\\\\\n",
       "\tnnet & nnet       & /usr/lib/R/library            & 7.3-14  & recommended & R (>= 3.0.0), stats, utils                      & NA                                               & NA & MASS                                       & NA                                    & GPL-2 \\textbar{} GPL-3               & NA & NA & NA & NA & yes & 4.0.0\\\\\n",
       "\tparallel & parallel   & /usr/lib/R/library            & 4.0.2   & base        & NA                                              & tools, compiler                                  & NA & methods                                    & snow, nws, Rmpi                       & Part of R 4.0.2             & NA & NA & NA & NA & yes & 4.0.2\\\\\n",
       "\trpart & rpart      & /usr/lib/R/library            & 4.1-15  & recommended & R (>= 2.15.0), graphics, stats, grDevices       & NA                                               & NA & survival                                   & NA                                    & GPL-2 \\textbar{} GPL-3               & NA & NA & NA & NA & yes & 4.0.0\\\\\n",
       "\tspatial & spatial    & /usr/lib/R/library            & 7.3-11  & recommended & R (>= 3.0.0), graphics, stats, utils            & NA                                               & NA & MASS                                       & NA                                    & GPL-2 \\textbar{} GPL-3               & NA & NA & NA & NA & yes & 4.0.0\\\\\n",
       "\tsplines & splines    & /usr/lib/R/library            & 4.0.2   & base        & NA                                              & graphics, stats                                  & NA & Matrix, methods                            & NA                                    & Part of R 4.0.2             & NA & NA & NA & NA & yes & 4.0.2\\\\\n",
       "\tstats & stats      & /usr/lib/R/library            & 4.0.2   & base        & NA                                              & utils, grDevices, graphics                       & NA & MASS, Matrix, SuppDists, methods, stats4   & NA                                    & Part of R 4.0.2             & NA & NA & NA & NA & yes & 4.0.2\\\\\n",
       "\tstats4 & stats4     & /usr/lib/R/library            & 4.0.2   & base        & NA                                              & graphics, methods, stats                         & NA & NA                                         & NA                                    & Part of R 4.0.2             & NA & NA & NA & NA & NA  & 4.0.2\\\\\n",
       "\tsurvival & survival   & /usr/lib/R/library            & 3.1-12  & recommended & R (>= 3.4.0)                                    & graphics, Matrix, methods, splines, stats, utils & NA & NA                                         & NA                                    & LGPL (>= 2)                 & NA & NA & NA & NA & yes & 4.0.0\\\\\n",
       "\ttcltk & tcltk      & /usr/lib/R/library            & 4.0.2   & base        & NA                                              & utils                                            & NA & NA                                         & NA                                    & Part of R 4.0.2             & NA & NA & NA & NA & yes & 4.0.2\\\\\n",
       "\ttools & tools      & /usr/lib/R/library            & 4.0.2   & base        & NA                                              & NA                                               & NA & codetools, methods, xml2, curl, commonmark & NA                                    & Part of R 4.0.2             & NA & NA & NA & NA & yes & 4.0.2\\\\\n",
       "\tutils & utils      & /usr/lib/R/library            & 4.0.2   & base        & NA                                              & NA                                               & NA & methods, xml2, commonmark                  & NA                                    & Part of R 4.0.2             & NA & NA & NA & NA & yes & 4.0.2\\\\\n",
       "\\end{tabular}\n"
      ],
      "text/markdown": [
       "\n",
       "A matrix: 105 × 16 of type chr\n",
       "\n",
       "| <!--/--> | Package | LibPath | Version | Priority | Depends | Imports | LinkingTo | Suggests | Enhances | License | License_is_FOSS | License_restricts_use | OS_type | MD5sum | NeedsCompilation | Built |\n",
       "|---|---|---|---|---|---|---|---|---|---|---|---|---|---|---|---|---|\n",
       "| IRdisplay | IRdisplay   | /home/betania/R/x86_64-pc-linux-gnu-library/4.0 | 0.7.0    | NA | R (&gt;= 3.0.1)  | methods, repr                                                                                                                            | NA | testthat, withr                                                                                                                                                 | NA                                                          | MIT + file LICENSE          | NA | NA | NA | NA | no  | 4.0.2 |\n",
       "| IRkernel | IRkernel    | /home/betania/R/x86_64-pc-linux-gnu-library/4.0 | 1.1.1    | NA | R (&gt;= 3.2.0)  | repr (&gt;= 0.4.99), methods, evaluate (&gt;= 0.10), IRdisplay (&gt;=\n",
       "0.3.0.9999), pbdZMQ (&gt;= 0.2-1), crayon, jsonlite (&gt;= 0.9.6),\n",
       "uuid, digest | NA | testthat, roxygen2                                                                                                                                              | NA                                                          | MIT + file LICENSE          | NA | NA | NA | NA | no  | 4.0.2 |\n",
       "| repr | repr        | /home/betania/R/x86_64-pc-linux-gnu-library/4.0 | 1.1.0    | NA | R (&gt;= 3.0.1)  | utils, grDevices, htmltools, jsonlite, pillar (&gt;= 1.4.0),\n",
       "base64enc                                                                     | NA | methods, highr, Cairo, stringr, testthat, diffobj (&gt;= 0.2.3),\n",
       "leaflet                                                                                          | data.table, dplyr, htmlwidgets, vegalite, plotly, geojsonio | GPL-3                       | NA | NA | NA | NA | no  | 4.0.2 |\n",
       "| askpass | askpass     | /usr/local/lib/R/site-library                   | 1.1      | NA | NA            | sys (&gt;= 2.1)                                                                                                                             | NA | testthat                                                                                                                                                        | NA                                                          | MIT + file LICENSE          | NA | NA | NA | NA | yes | 4.0.2 |\n",
       "| assertthat | assertthat  | /usr/local/lib/R/site-library                   | 0.2.1    | NA | NA            | tools                                                                                                                                    | NA | testthat, covr                                                                                                                                                  | NA                                                          | GPL-3                       | NA | NA | NA | NA | no  | 4.0.2 |\n",
       "| backports | backports   | /usr/local/lib/R/site-library                   | 1.1.9    | NA | R (&gt;= 3.0.0)  | utils                                                                                                                                    | NA | NA                                                                                                                                                              | NA                                                          | GPL-2 | GPL-3               | NA | NA | NA | NA | yes | 4.0.2 |\n",
       "| base64enc | base64enc   | /usr/local/lib/R/site-library                   | 0.1-3    | NA | R (&gt;= 2.9.0)  | NA                                                                                                                                       | NA | NA                                                                                                                                                              | png                                                         | GPL-2 | GPL-3               | NA | NA | NA | NA | yes | 4.0.2 |\n",
       "| BH | BH          | /usr/local/lib/R/site-library                   | 1.72.0-3 | NA | NA            | NA                                                                                                                                       | NA | NA                                                                                                                                                              | NA                                                          | BSL-1.0                     | NA | NA | NA | NA | no  | 4.0.2 |\n",
       "| brew | brew        | /usr/local/lib/R/site-library                   | 1.0-6    | NA | NA            | NA                                                                                                                                       | NA | NA                                                                                                                                                              | NA                                                          | GPL-2                       | NA | NA | NA | NA | NA  | 4.0.2 |\n",
       "| callr | callr       | /usr/local/lib/R/site-library                   | 3.4.4    | NA | NA            | processx (&gt;= 3.4.0), R6, utils                                                                                                           | NA | cliapp, covr, crayon, fansi, pingr, ps, rprojroot, spelling,\n",
       "testthat, tibble, withr                                                                           | NA                                                          | MIT + file LICENSE          | NA | NA | NA | NA | no  | 4.0.2 |\n",
       "| cli | cli         | /usr/local/lib/R/site-library                   | 2.0.2    | NA | R (&gt;= 2.10)   | assertthat, crayon (&gt;= 1.3.4), glue, methods, utils, fansi                                                                               | NA | callr, covr, htmlwidgets, knitr, mockery, rmarkdown,\n",
       "rstudioapi, prettycode (&gt;= 1.1.0), testthat, withr                                                        | NA                                                          | MIT + file LICENSE          | NA | NA | NA | NA | no  | 4.0.2 |\n",
       "| clipr | clipr       | /usr/local/lib/R/site-library                   | 0.7.0    | NA | NA            | utils                                                                                                                                    | NA | covr, knitr, rmarkdown, rstudioapi (&gt;= 0.5), testthat (&gt;=\n",
       "2.0.0)                                                                                               | NA                                                          | GPL-3                       | NA | NA | NA | NA | no  | 4.0.2 |\n",
       "| commonmark | commonmark  | /usr/local/lib/R/site-library                   | 1.7      | NA | NA            | NA                                                                                                                                       | NA | curl, testthat, xml2                                                                                                                                            | NA                                                          | BSD_2_clause + file LICENSE | NA | NA | NA | NA | yes | 4.0.2 |\n",
       "| crayon | crayon      | /usr/local/lib/R/site-library                   | 1.3.4    | NA | NA            | grDevices, methods, utils                                                                                                                | NA | mockery, rstudioapi, testthat, withr                                                                                                                            | NA                                                          | MIT + file LICENSE          | NA | NA | NA | NA | no  | 4.0.2 |\n",
       "| crosstalk | crosstalk   | /usr/local/lib/R/site-library                   | 1.1.0.1  | NA | NA            | htmltools (&gt;= 0.3.6), jsonlite, lazyeval, R6                                                                                             | NA | shiny, ggplot2, testthat (&gt;= 2.1.0)                                                                                                                             | NA                                                          | MIT + file LICENSE          | NA | NA | NA | NA | no  | 4.0.2 |\n",
       "| desc | desc        | /usr/local/lib/R/site-library                   | 1.2.0    | NA | R (&gt;= 3.1.0)  | assertthat, utils, R6, crayon, rprojroot                                                                                                 | NA | covr, testthat, whoami, withr                                                                                                                                   | NA                                                          | MIT + file LICENSE          | NA | NA | NA | NA | no  | 4.0.2 |\n",
       "| digest | digest      | /usr/local/lib/R/site-library                   | 0.6.25   | NA | R (&gt;= 3.1.0)  | utils                                                                                                                                    | NA | tinytest, knitr, rmarkdown                                                                                                                                      | NA                                                          | GPL (&gt;= 2)                  | NA | NA | NA | NA | yes | 4.0.2 |\n",
       "| DT | DT          | /usr/local/lib/R/site-library                   | 0.15     | NA | NA            | htmltools (&gt;= 0.3.6), htmlwidgets (&gt;= 1.3), jsonlite (&gt;=\n",
       "0.9.16), magrittr, crosstalk, promises                                         | NA | knitr (&gt;= 1.8), rmarkdown, shiny (&gt;= 1.2.0), testit                                                                                                             | NA                                                          | GPL-3 | file LICENSE        | NA | NA | NA | NA | no  | 4.0.2 |\n",
       "| ellipsis | ellipsis    | /usr/local/lib/R/site-library                   | 0.3.1    | NA | R (&gt;= 3.2)    | rlang (&gt;= 0.3.0)                                                                                                                         | NA | covr, testthat                                                                                                                                                  | NA                                                          | GPL-3                       | NA | NA | NA | NA | yes | 4.0.2 |\n",
       "| evaluate | evaluate    | /usr/local/lib/R/site-library                   | 0.14     | NA | R (&gt;= 3.0.2)  | methods                                                                                                                                  | NA | testthat, lattice, ggplot2                                                                                                                                      | NA                                                          | MIT + file LICENSE          | NA | NA | NA | NA | no  | 4.0.2 |\n",
       "| fansi | fansi       | /usr/local/lib/R/site-library                   | 0.4.1    | NA | R (&gt;= 3.1.0)  | NA                                                                                                                                       | NA | unitizer, knitr, rmarkdown                                                                                                                                      | NA                                                          | GPL (&gt;= 2)                  | NA | NA | NA | NA | yes | 4.0.2 |\n",
       "| fs | fs          | /usr/local/lib/R/site-library                   | 1.5.0    | NA | R (&gt;= 3.1)    | methods                                                                                                                                  | NA | testthat, covr, pillar (&gt;= 1.0.0), tibble (&gt;= 1.1.0), crayon,\n",
       "rmarkdown, knitr, withr, spelling, vctrs (&gt;= 0.3.0)                                              | NA                                                          | GPL-3                       | NA | NA | NA | NA | yes | 4.0.2 |\n",
       "| git2r | git2r       | /usr/local/lib/R/site-library                   | 0.27.1   | NA | R (&gt;= 3.1)    | graphics, utils                                                                                                                          | NA | getPass                                                                                                                                                         | NA                                                          | GPL-2                       | NA | NA | NA | NA | yes | 4.0.2 |\n",
       "| glue | glue        | /usr/local/lib/R/site-library                   | 1.4.2    | NA | R (&gt;= 3.2)    | methods                                                                                                                                  | NA | testthat, covr, magrittr, crayon, knitr, rmarkdown, DBI,\n",
       "RSQLite, R.utils, forcats, microbenchmark, rprintf, stringr,\n",
       "ggplot2, dplyr, withr, vctrs (&gt;= 0.3.0) | NA                                                          | MIT + file LICENSE          | NA | NA | NA | NA | yes | 4.0.2 |\n",
       "| highr | highr       | /usr/local/lib/R/site-library                   | 0.8      | NA | R (&gt;= 3.2.3)  | NA                                                                                                                                       | NA | knitr, testit                                                                                                                                                   | NA                                                          | GPL                         | NA | NA | NA | NA | no  | 4.0.2 |\n",
       "| htmltools | htmltools   | /usr/local/lib/R/site-library                   | 0.5.0    | NA | R (&gt;= 2.14.1) | utils, digest, grDevices, base64enc, rlang                                                                                               | NA | markdown, testthat, withr, Cairo, ragg                                                                                                                          | knitr                                                       | GPL (&gt;= 2)                  | NA | NA | NA | NA | yes | 4.0.2 |\n",
       "| htmlwidgets | htmlwidgets | /usr/local/lib/R/site-library                   | 1.5.1    | NA | NA            | grDevices, htmltools (&gt;= 0.3), jsonlite (&gt;= 0.9.16), yaml                                                                                | NA | knitr (&gt;= 1.8)                                                                                                                                                  | shiny (&gt;= 1.1)                                              | MIT + file LICENSE          | NA | NA | NA | NA | no  | 4.0.2 |\n",
       "| ini | ini         | /usr/local/lib/R/site-library                   | 0.3.1    | NA | NA            | NA                                                                                                                                       | NA | testthat                                                                                                                                                        | NA                                                          | GPL-3                       | NA | NA | NA | NA | no  | 4.0.2 |\n",
       "| IRdisplay | IRdisplay   | /usr/local/lib/R/site-library                   | 0.7.0    | NA | R (&gt;= 3.0.1)  | methods, repr                                                                                                                            | NA | testthat, withr                                                                                                                                                 | NA                                                          | MIT + file LICENSE          | NA | NA | NA | NA | no  | 4.0.2 |\n",
       "| IRkernel | IRkernel    | /usr/local/lib/R/site-library                   | 1.1.1    | NA | R (&gt;= 3.2.0)  | repr (&gt;= 0.4.99), methods, evaluate (&gt;= 0.10), IRdisplay (&gt;=\n",
       "0.3.0.9999), pbdZMQ (&gt;= 0.2-1), crayon, jsonlite (&gt;= 0.9.6),\n",
       "uuid, digest | NA | testthat, roxygen2                                                                                                                                              | NA                                                          | MIT + file LICENSE          | NA | NA | NA | NA | no  | 4.0.2 |\n",
       "| ⋮ | ⋮ | ⋮ | ⋮ | ⋮ | ⋮ | ⋮ | ⋮ | ⋮ | ⋮ | ⋮ | ⋮ | ⋮ | ⋮ | ⋮ | ⋮ | ⋮ |\n",
       "| yaml | yaml       | /usr/local/lib/R/site-library | 2.2.1   | NA          | NA                                              | NA                                               | NA | RUnit                                      | NA                                    | BSD_3_clause + file LICENSE | NA | NA | NA | NA | yes | 4.0.2 |\n",
       "| base | base       | /usr/lib/R/library            | 4.0.2   | base        | NA                                              | NA                                               | NA | methods                                    | NA                                    | Part of R 4.0.2             | NA | NA | NA | NA | NA  | 4.0.2 |\n",
       "| boot | boot       | /usr/lib/R/library            | 1.3-25  | recommended | R (&gt;= 3.0.0), graphics, stats                   | NA                                               | NA | MASS, survival                             | NA                                    | Unlimited                   | NA | NA | NA | NA | no  | 4.0.0 |\n",
       "| class | class      | /usr/lib/R/library            | 7.3-17  | recommended | R (&gt;= 3.0.0), stats, utils                      | MASS                                             | NA | NA                                         | NA                                    | GPL-2 | GPL-3               | NA | NA | NA | NA | yes | 4.0.0 |\n",
       "| cluster | cluster    | /usr/lib/R/library            | 2.1.0   | recommended | R (&gt;= 3.3.0)                                    | graphics, grDevices, stats, utils                | NA | MASS, Matrix                               | NA                                    | GPL (&gt;= 2)                  | NA | NA | NA | NA | yes | 4.0.0 |\n",
       "| codetools | codetools  | /usr/lib/R/library            | 0.2-16  | recommended | R (&gt;= 2.1)                                      | NA                                               | NA | NA                                         | NA                                    | GPL                         | NA | NA | NA | NA | no  | 4.0.0 |\n",
       "| compiler | compiler   | /usr/lib/R/library            | 4.0.2   | base        | NA                                              | NA                                               | NA | NA                                         | NA                                    | Part of R 4.0.2             | NA | NA | NA | NA | NA  | 4.0.2 |\n",
       "| datasets | datasets   | /usr/lib/R/library            | 4.0.2   | base        | NA                                              | NA                                               | NA | NA                                         | NA                                    | Part of R 4.0.2             | NA | NA | NA | NA | NA  | 4.0.2 |\n",
       "| foreign | foreign    | /usr/lib/R/library            | 0.8-79  | recommended | R (&gt;= 4.0.0)                                    | methods, utils, stats                            | NA | NA                                         | NA                                    | GPL (&gt;= 2)                  | NA | NA | NA | NA | yes | 4.0.0 |\n",
       "| graphics | graphics   | /usr/lib/R/library            | 4.0.2   | base        | NA                                              | grDevices                                        | NA | NA                                         | NA                                    | Part of R 4.0.2             | NA | NA | NA | NA | yes | 4.0.2 |\n",
       "| grDevices | grDevices  | /usr/lib/R/library            | 4.0.2   | base        | NA                                              | NA                                               | NA | KernSmooth                                 | NA                                    | Part of R 4.0.2             | NA | NA | NA | NA | yes | 4.0.2 |\n",
       "| grid | grid       | /usr/lib/R/library            | 4.0.2   | base        | NA                                              | grDevices, utils                                 | NA | lattice                                    | NA                                    | Part of R 4.0.2             | NA | NA | NA | NA | yes | 4.0.2 |\n",
       "| KernSmooth | KernSmooth | /usr/lib/R/library            | 2.23-17 | recommended | R (&gt;= 2.5.0), stats                             | NA                                               | NA | MASS                                       | NA                                    | Unlimited                   | NA | NA | NA | NA | yes | 4.0.0 |\n",
       "| lattice | lattice    | /usr/lib/R/library            | 0.20-41 | recommended | R (&gt;= 3.0.0)                                    | grid, grDevices, graphics, stats, utils          | NA | KernSmooth, MASS, latticeExtra             | chron                                 | GPL (&gt;= 2)                  | NA | NA | NA | NA | yes | 4.0.0 |\n",
       "| MASS | MASS       | /usr/lib/R/library            | 7.3-52  | recommended | R (&gt;= 3.1.0), grDevices, graphics, stats, utils | methods                                          | NA | lattice, nlme, nnet, survival              | NA                                    | GPL-2 | GPL-3               | NA | NA | NA | NA | yes | 4.0.2 |\n",
       "| Matrix | Matrix     | /usr/lib/R/library            | 1.2-18  | recommended | R (&gt;= 3.2.0)                                    | methods, graphics, grid, stats, utils, lattice   | NA | expm, MASS                                 | MatrixModels, graph, SparseM, sfsmisc | GPL (&gt;= 2) | file LICENCE   | NA | NA | NA | NA | yes | 4.0.0 |\n",
       "| methods | methods    | /usr/lib/R/library            | 4.0.2   | base        | NA                                              | utils, stats                                     | NA | codetools                                  | NA                                    | Part of R 4.0.2             | NA | NA | NA | NA | yes | 4.0.2 |\n",
       "| mgcv | mgcv       | /usr/lib/R/library            | 1.8-33  | recommended | R (&gt;= 2.14.0), nlme (&gt;= 3.1-64)                 | methods, stats, graphics, Matrix, splines, utils | NA | parallel, survival, MASS                   | NA                                    | GPL (&gt;= 2)                  | NA | NA | NA | NA | yes | 4.0.2 |\n",
       "| nlme | nlme       | /usr/lib/R/library            | 3.1-149 | recommended | R (&gt;= 3.4.0)                                    | graphics, stats, utils, lattice                  | NA | Hmisc, MASS                                | NA                                    | GPL (&gt;= 2) | file LICENCE   | NA | NA | NA | NA | yes | 4.0.2 |\n",
       "| nnet | nnet       | /usr/lib/R/library            | 7.3-14  | recommended | R (&gt;= 3.0.0), stats, utils                      | NA                                               | NA | MASS                                       | NA                                    | GPL-2 | GPL-3               | NA | NA | NA | NA | yes | 4.0.0 |\n",
       "| parallel | parallel   | /usr/lib/R/library            | 4.0.2   | base        | NA                                              | tools, compiler                                  | NA | methods                                    | snow, nws, Rmpi                       | Part of R 4.0.2             | NA | NA | NA | NA | yes | 4.0.2 |\n",
       "| rpart | rpart      | /usr/lib/R/library            | 4.1-15  | recommended | R (&gt;= 2.15.0), graphics, stats, grDevices       | NA                                               | NA | survival                                   | NA                                    | GPL-2 | GPL-3               | NA | NA | NA | NA | yes | 4.0.0 |\n",
       "| spatial | spatial    | /usr/lib/R/library            | 7.3-11  | recommended | R (&gt;= 3.0.0), graphics, stats, utils            | NA                                               | NA | MASS                                       | NA                                    | GPL-2 | GPL-3               | NA | NA | NA | NA | yes | 4.0.0 |\n",
       "| splines | splines    | /usr/lib/R/library            | 4.0.2   | base        | NA                                              | graphics, stats                                  | NA | Matrix, methods                            | NA                                    | Part of R 4.0.2             | NA | NA | NA | NA | yes | 4.0.2 |\n",
       "| stats | stats      | /usr/lib/R/library            | 4.0.2   | base        | NA                                              | utils, grDevices, graphics                       | NA | MASS, Matrix, SuppDists, methods, stats4   | NA                                    | Part of R 4.0.2             | NA | NA | NA | NA | yes | 4.0.2 |\n",
       "| stats4 | stats4     | /usr/lib/R/library            | 4.0.2   | base        | NA                                              | graphics, methods, stats                         | NA | NA                                         | NA                                    | Part of R 4.0.2             | NA | NA | NA | NA | NA  | 4.0.2 |\n",
       "| survival | survival   | /usr/lib/R/library            | 3.1-12  | recommended | R (&gt;= 3.4.0)                                    | graphics, Matrix, methods, splines, stats, utils | NA | NA                                         | NA                                    | LGPL (&gt;= 2)                 | NA | NA | NA | NA | yes | 4.0.0 |\n",
       "| tcltk | tcltk      | /usr/lib/R/library            | 4.0.2   | base        | NA                                              | utils                                            | NA | NA                                         | NA                                    | Part of R 4.0.2             | NA | NA | NA | NA | yes | 4.0.2 |\n",
       "| tools | tools      | /usr/lib/R/library            | 4.0.2   | base        | NA                                              | NA                                               | NA | codetools, methods, xml2, curl, commonmark | NA                                    | Part of R 4.0.2             | NA | NA | NA | NA | yes | 4.0.2 |\n",
       "| utils | utils      | /usr/lib/R/library            | 4.0.2   | base        | NA                                              | NA                                               | NA | methods, xml2, commonmark                  | NA                                    | Part of R 4.0.2             | NA | NA | NA | NA | yes | 4.0.2 |\n",
       "\n"
      ],
      "text/plain": [
       "            Package     LibPath                                        \n",
       "IRdisplay   IRdisplay   /home/betania/R/x86_64-pc-linux-gnu-library/4.0\n",
       "IRkernel    IRkernel    /home/betania/R/x86_64-pc-linux-gnu-library/4.0\n",
       "repr        repr        /home/betania/R/x86_64-pc-linux-gnu-library/4.0\n",
       "askpass     askpass     /usr/local/lib/R/site-library                  \n",
       "assertthat  assertthat  /usr/local/lib/R/site-library                  \n",
       "backports   backports   /usr/local/lib/R/site-library                  \n",
       "base64enc   base64enc   /usr/local/lib/R/site-library                  \n",
       "BH          BH          /usr/local/lib/R/site-library                  \n",
       "brew        brew        /usr/local/lib/R/site-library                  \n",
       "callr       callr       /usr/local/lib/R/site-library                  \n",
       "cli         cli         /usr/local/lib/R/site-library                  \n",
       "clipr       clipr       /usr/local/lib/R/site-library                  \n",
       "commonmark  commonmark  /usr/local/lib/R/site-library                  \n",
       "crayon      crayon      /usr/local/lib/R/site-library                  \n",
       "crosstalk   crosstalk   /usr/local/lib/R/site-library                  \n",
       "desc        desc        /usr/local/lib/R/site-library                  \n",
       "digest      digest      /usr/local/lib/R/site-library                  \n",
       "DT          DT          /usr/local/lib/R/site-library                  \n",
       "ellipsis    ellipsis    /usr/local/lib/R/site-library                  \n",
       "evaluate    evaluate    /usr/local/lib/R/site-library                  \n",
       "fansi       fansi       /usr/local/lib/R/site-library                  \n",
       "fs          fs          /usr/local/lib/R/site-library                  \n",
       "git2r       git2r       /usr/local/lib/R/site-library                  \n",
       "glue        glue        /usr/local/lib/R/site-library                  \n",
       "highr       highr       /usr/local/lib/R/site-library                  \n",
       "htmltools   htmltools   /usr/local/lib/R/site-library                  \n",
       "htmlwidgets htmlwidgets /usr/local/lib/R/site-library                  \n",
       "ini         ini         /usr/local/lib/R/site-library                  \n",
       "IRdisplay   IRdisplay   /usr/local/lib/R/site-library                  \n",
       "IRkernel    IRkernel    /usr/local/lib/R/site-library                  \n",
       "⋮           ⋮           ⋮                                              \n",
       "yaml        yaml        /usr/local/lib/R/site-library                  \n",
       "base        base        /usr/lib/R/library                             \n",
       "boot        boot        /usr/lib/R/library                             \n",
       "class       class       /usr/lib/R/library                             \n",
       "cluster     cluster     /usr/lib/R/library                             \n",
       "codetools   codetools   /usr/lib/R/library                             \n",
       "compiler    compiler    /usr/lib/R/library                             \n",
       "datasets    datasets    /usr/lib/R/library                             \n",
       "foreign     foreign     /usr/lib/R/library                             \n",
       "graphics    graphics    /usr/lib/R/library                             \n",
       "grDevices   grDevices   /usr/lib/R/library                             \n",
       "grid        grid        /usr/lib/R/library                             \n",
       "KernSmooth  KernSmooth  /usr/lib/R/library                             \n",
       "lattice     lattice     /usr/lib/R/library                             \n",
       "MASS        MASS        /usr/lib/R/library                             \n",
       "Matrix      Matrix      /usr/lib/R/library                             \n",
       "methods     methods     /usr/lib/R/library                             \n",
       "mgcv        mgcv        /usr/lib/R/library                             \n",
       "nlme        nlme        /usr/lib/R/library                             \n",
       "nnet        nnet        /usr/lib/R/library                             \n",
       "parallel    parallel    /usr/lib/R/library                             \n",
       "rpart       rpart       /usr/lib/R/library                             \n",
       "spatial     spatial     /usr/lib/R/library                             \n",
       "splines     splines     /usr/lib/R/library                             \n",
       "stats       stats       /usr/lib/R/library                             \n",
       "stats4      stats4      /usr/lib/R/library                             \n",
       "survival    survival    /usr/lib/R/library                             \n",
       "tcltk       tcltk       /usr/lib/R/library                             \n",
       "tools       tools       /usr/lib/R/library                             \n",
       "utils       utils       /usr/lib/R/library                             \n",
       "            Version  Priority   \n",
       "IRdisplay   0.7.0    NA         \n",
       "IRkernel    1.1.1    NA         \n",
       "repr        1.1.0    NA         \n",
       "askpass     1.1      NA         \n",
       "assertthat  0.2.1    NA         \n",
       "backports   1.1.9    NA         \n",
       "base64enc   0.1-3    NA         \n",
       "BH          1.72.0-3 NA         \n",
       "brew        1.0-6    NA         \n",
       "callr       3.4.4    NA         \n",
       "cli         2.0.2    NA         \n",
       "clipr       0.7.0    NA         \n",
       "commonmark  1.7      NA         \n",
       "crayon      1.3.4    NA         \n",
       "crosstalk   1.1.0.1  NA         \n",
       "desc        1.2.0    NA         \n",
       "digest      0.6.25   NA         \n",
       "DT          0.15     NA         \n",
       "ellipsis    0.3.1    NA         \n",
       "evaluate    0.14     NA         \n",
       "fansi       0.4.1    NA         \n",
       "fs          1.5.0    NA         \n",
       "git2r       0.27.1   NA         \n",
       "glue        1.4.2    NA         \n",
       "highr       0.8      NA         \n",
       "htmltools   0.5.0    NA         \n",
       "htmlwidgets 1.5.1    NA         \n",
       "ini         0.3.1    NA         \n",
       "IRdisplay   0.7.0    NA         \n",
       "IRkernel    1.1.1    NA         \n",
       "⋮           ⋮        ⋮          \n",
       "yaml        2.2.1    NA         \n",
       "base        4.0.2    base       \n",
       "boot        1.3-25   recommended\n",
       "class       7.3-17   recommended\n",
       "cluster     2.1.0    recommended\n",
       "codetools   0.2-16   recommended\n",
       "compiler    4.0.2    base       \n",
       "datasets    4.0.2    base       \n",
       "foreign     0.8-79   recommended\n",
       "graphics    4.0.2    base       \n",
       "grDevices   4.0.2    base       \n",
       "grid        4.0.2    base       \n",
       "KernSmooth  2.23-17  recommended\n",
       "lattice     0.20-41  recommended\n",
       "MASS        7.3-52   recommended\n",
       "Matrix      1.2-18   recommended\n",
       "methods     4.0.2    base       \n",
       "mgcv        1.8-33   recommended\n",
       "nlme        3.1-149  recommended\n",
       "nnet        7.3-14   recommended\n",
       "parallel    4.0.2    base       \n",
       "rpart       4.1-15   recommended\n",
       "spatial     7.3-11   recommended\n",
       "splines     4.0.2    base       \n",
       "stats       4.0.2    base       \n",
       "stats4      4.0.2    base       \n",
       "survival    3.1-12   recommended\n",
       "tcltk       4.0.2    base       \n",
       "tools       4.0.2    base       \n",
       "utils       4.0.2    base       \n",
       "            Depends                                        \n",
       "IRdisplay   R (>= 3.0.1)                                   \n",
       "IRkernel    R (>= 3.2.0)                                   \n",
       "repr        R (>= 3.0.1)                                   \n",
       "askpass     NA                                             \n",
       "assertthat  NA                                             \n",
       "backports   R (>= 3.0.0)                                   \n",
       "base64enc   R (>= 2.9.0)                                   \n",
       "BH          NA                                             \n",
       "brew        NA                                             \n",
       "callr       NA                                             \n",
       "cli         R (>= 2.10)                                    \n",
       "clipr       NA                                             \n",
       "commonmark  NA                                             \n",
       "crayon      NA                                             \n",
       "crosstalk   NA                                             \n",
       "desc        R (>= 3.1.0)                                   \n",
       "digest      R (>= 3.1.0)                                   \n",
       "DT          NA                                             \n",
       "ellipsis    R (>= 3.2)                                     \n",
       "evaluate    R (>= 3.0.2)                                   \n",
       "fansi       R (>= 3.1.0)                                   \n",
       "fs          R (>= 3.1)                                     \n",
       "git2r       R (>= 3.1)                                     \n",
       "glue        R (>= 3.2)                                     \n",
       "highr       R (>= 3.2.3)                                   \n",
       "htmltools   R (>= 2.14.1)                                  \n",
       "htmlwidgets NA                                             \n",
       "ini         NA                                             \n",
       "IRdisplay   R (>= 3.0.1)                                   \n",
       "IRkernel    R (>= 3.2.0)                                   \n",
       "⋮           ⋮                                              \n",
       "yaml        NA                                             \n",
       "base        NA                                             \n",
       "boot        R (>= 3.0.0), graphics, stats                  \n",
       "class       R (>= 3.0.0), stats, utils                     \n",
       "cluster     R (>= 3.3.0)                                   \n",
       "codetools   R (>= 2.1)                                     \n",
       "compiler    NA                                             \n",
       "datasets    NA                                             \n",
       "foreign     R (>= 4.0.0)                                   \n",
       "graphics    NA                                             \n",
       "grDevices   NA                                             \n",
       "grid        NA                                             \n",
       "KernSmooth  R (>= 2.5.0), stats                            \n",
       "lattice     R (>= 3.0.0)                                   \n",
       "MASS        R (>= 3.1.0), grDevices, graphics, stats, utils\n",
       "Matrix      R (>= 3.2.0)                                   \n",
       "methods     NA                                             \n",
       "mgcv        R (>= 2.14.0), nlme (>= 3.1-64)                \n",
       "nlme        R (>= 3.4.0)                                   \n",
       "nnet        R (>= 3.0.0), stats, utils                     \n",
       "parallel    NA                                             \n",
       "rpart       R (>= 2.15.0), graphics, stats, grDevices      \n",
       "spatial     R (>= 3.0.0), graphics, stats, utils           \n",
       "splines     NA                                             \n",
       "stats       NA                                             \n",
       "stats4      NA                                             \n",
       "survival    R (>= 3.4.0)                                   \n",
       "tcltk       NA                                             \n",
       "tools       NA                                             \n",
       "utils       NA                                             \n",
       "            Imports                                                                                                                                 \n",
       "IRdisplay   methods, repr                                                                                                                           \n",
       "IRkernel    repr (>= 0.4.99), methods, evaluate (>= 0.10), IRdisplay (>=\\n0.3.0.9999), pbdZMQ (>= 0.2-1), crayon, jsonlite (>= 0.9.6),\\nuuid, digest\n",
       "repr        utils, grDevices, htmltools, jsonlite, pillar (>= 1.4.0),\\nbase64enc                                                                    \n",
       "askpass     sys (>= 2.1)                                                                                                                            \n",
       "assertthat  tools                                                                                                                                   \n",
       "backports   utils                                                                                                                                   \n",
       "base64enc   NA                                                                                                                                      \n",
       "BH          NA                                                                                                                                      \n",
       "brew        NA                                                                                                                                      \n",
       "callr       processx (>= 3.4.0), R6, utils                                                                                                          \n",
       "cli         assertthat, crayon (>= 1.3.4), glue, methods, utils, fansi                                                                              \n",
       "clipr       utils                                                                                                                                   \n",
       "commonmark  NA                                                                                                                                      \n",
       "crayon      grDevices, methods, utils                                                                                                               \n",
       "crosstalk   htmltools (>= 0.3.6), jsonlite, lazyeval, R6                                                                                            \n",
       "desc        assertthat, utils, R6, crayon, rprojroot                                                                                                \n",
       "digest      utils                                                                                                                                   \n",
       "DT          htmltools (>= 0.3.6), htmlwidgets (>= 1.3), jsonlite (>=\\n0.9.16), magrittr, crosstalk, promises                                        \n",
       "ellipsis    rlang (>= 0.3.0)                                                                                                                        \n",
       "evaluate    methods                                                                                                                                 \n",
       "fansi       NA                                                                                                                                      \n",
       "fs          methods                                                                                                                                 \n",
       "git2r       graphics, utils                                                                                                                         \n",
       "glue        methods                                                                                                                                 \n",
       "highr       NA                                                                                                                                      \n",
       "htmltools   utils, digest, grDevices, base64enc, rlang                                                                                              \n",
       "htmlwidgets grDevices, htmltools (>= 0.3), jsonlite (>= 0.9.16), yaml                                                                               \n",
       "ini         NA                                                                                                                                      \n",
       "IRdisplay   methods, repr                                                                                                                           \n",
       "IRkernel    repr (>= 0.4.99), methods, evaluate (>= 0.10), IRdisplay (>=\\n0.3.0.9999), pbdZMQ (>= 0.2-1), crayon, jsonlite (>= 0.9.6),\\nuuid, digest\n",
       "⋮           ⋮                                                                                                                                       \n",
       "yaml        NA                                                                                                                                      \n",
       "base        NA                                                                                                                                      \n",
       "boot        NA                                                                                                                                      \n",
       "class       MASS                                                                                                                                    \n",
       "cluster     graphics, grDevices, stats, utils                                                                                                       \n",
       "codetools   NA                                                                                                                                      \n",
       "compiler    NA                                                                                                                                      \n",
       "datasets    NA                                                                                                                                      \n",
       "foreign     methods, utils, stats                                                                                                                   \n",
       "graphics    grDevices                                                                                                                               \n",
       "grDevices   NA                                                                                                                                      \n",
       "grid        grDevices, utils                                                                                                                        \n",
       "KernSmooth  NA                                                                                                                                      \n",
       "lattice     grid, grDevices, graphics, stats, utils                                                                                                 \n",
       "MASS        methods                                                                                                                                 \n",
       "Matrix      methods, graphics, grid, stats, utils, lattice                                                                                          \n",
       "methods     utils, stats                                                                                                                            \n",
       "mgcv        methods, stats, graphics, Matrix, splines, utils                                                                                        \n",
       "nlme        graphics, stats, utils, lattice                                                                                                         \n",
       "nnet        NA                                                                                                                                      \n",
       "parallel    tools, compiler                                                                                                                         \n",
       "rpart       NA                                                                                                                                      \n",
       "spatial     NA                                                                                                                                      \n",
       "splines     graphics, stats                                                                                                                         \n",
       "stats       utils, grDevices, graphics                                                                                                              \n",
       "stats4      graphics, methods, stats                                                                                                                \n",
       "survival    graphics, Matrix, methods, splines, stats, utils                                                                                        \n",
       "tcltk       utils                                                                                                                                   \n",
       "tools       NA                                                                                                                                      \n",
       "utils       NA                                                                                                                                      \n",
       "            LinkingTo\n",
       "IRdisplay   NA       \n",
       "IRkernel    NA       \n",
       "repr        NA       \n",
       "askpass     NA       \n",
       "assertthat  NA       \n",
       "backports   NA       \n",
       "base64enc   NA       \n",
       "BH          NA       \n",
       "brew        NA       \n",
       "callr       NA       \n",
       "cli         NA       \n",
       "clipr       NA       \n",
       "commonmark  NA       \n",
       "crayon      NA       \n",
       "crosstalk   NA       \n",
       "desc        NA       \n",
       "digest      NA       \n",
       "DT          NA       \n",
       "ellipsis    NA       \n",
       "evaluate    NA       \n",
       "fansi       NA       \n",
       "fs          NA       \n",
       "git2r       NA       \n",
       "glue        NA       \n",
       "highr       NA       \n",
       "htmltools   NA       \n",
       "htmlwidgets NA       \n",
       "ini         NA       \n",
       "IRdisplay   NA       \n",
       "IRkernel    NA       \n",
       "⋮           ⋮        \n",
       "yaml        NA       \n",
       "base        NA       \n",
       "boot        NA       \n",
       "class       NA       \n",
       "cluster     NA       \n",
       "codetools   NA       \n",
       "compiler    NA       \n",
       "datasets    NA       \n",
       "foreign     NA       \n",
       "graphics    NA       \n",
       "grDevices   NA       \n",
       "grid        NA       \n",
       "KernSmooth  NA       \n",
       "lattice     NA       \n",
       "MASS        NA       \n",
       "Matrix      NA       \n",
       "methods     NA       \n",
       "mgcv        NA       \n",
       "nlme        NA       \n",
       "nnet        NA       \n",
       "parallel    NA       \n",
       "rpart       NA       \n",
       "spatial     NA       \n",
       "splines     NA       \n",
       "stats       NA       \n",
       "stats4      NA       \n",
       "survival    NA       \n",
       "tcltk       NA       \n",
       "tools       NA       \n",
       "utils       NA       \n",
       "            Suggests                                                                                                                                                       \n",
       "IRdisplay   testthat, withr                                                                                                                                                \n",
       "IRkernel    testthat, roxygen2                                                                                                                                             \n",
       "repr        methods, highr, Cairo, stringr, testthat, diffobj (>= 0.2.3),\\nleaflet                                                                                         \n",
       "askpass     testthat                                                                                                                                                       \n",
       "assertthat  testthat, covr                                                                                                                                                 \n",
       "backports   NA                                                                                                                                                             \n",
       "base64enc   NA                                                                                                                                                             \n",
       "BH          NA                                                                                                                                                             \n",
       "brew        NA                                                                                                                                                             \n",
       "callr       cliapp, covr, crayon, fansi, pingr, ps, rprojroot, spelling,\\ntestthat, tibble, withr                                                                          \n",
       "cli         callr, covr, htmlwidgets, knitr, mockery, rmarkdown,\\nrstudioapi, prettycode (>= 1.1.0), testthat, withr                                                       \n",
       "clipr       covr, knitr, rmarkdown, rstudioapi (>= 0.5), testthat (>=\\n2.0.0)                                                                                              \n",
       "commonmark  curl, testthat, xml2                                                                                                                                           \n",
       "crayon      mockery, rstudioapi, testthat, withr                                                                                                                           \n",
       "crosstalk   shiny, ggplot2, testthat (>= 2.1.0)                                                                                                                            \n",
       "desc        covr, testthat, whoami, withr                                                                                                                                  \n",
       "digest      tinytest, knitr, rmarkdown                                                                                                                                     \n",
       "DT          knitr (>= 1.8), rmarkdown, shiny (>= 1.2.0), testit                                                                                                            \n",
       "ellipsis    covr, testthat                                                                                                                                                 \n",
       "evaluate    testthat, lattice, ggplot2                                                                                                                                     \n",
       "fansi       unitizer, knitr, rmarkdown                                                                                                                                     \n",
       "fs          testthat, covr, pillar (>= 1.0.0), tibble (>= 1.1.0), crayon,\\nrmarkdown, knitr, withr, spelling, vctrs (>= 0.3.0)                                             \n",
       "git2r       getPass                                                                                                                                                        \n",
       "glue        testthat, covr, magrittr, crayon, knitr, rmarkdown, DBI,\\nRSQLite, R.utils, forcats, microbenchmark, rprintf, stringr,\\nggplot2, dplyr, withr, vctrs (>= 0.3.0)\n",
       "highr       knitr, testit                                                                                                                                                  \n",
       "htmltools   markdown, testthat, withr, Cairo, ragg                                                                                                                         \n",
       "htmlwidgets knitr (>= 1.8)                                                                                                                                                 \n",
       "ini         testthat                                                                                                                                                       \n",
       "IRdisplay   testthat, withr                                                                                                                                                \n",
       "IRkernel    testthat, roxygen2                                                                                                                                             \n",
       "⋮           ⋮                                                                                                                                                              \n",
       "yaml        RUnit                                                                                                                                                          \n",
       "base        methods                                                                                                                                                        \n",
       "boot        MASS, survival                                                                                                                                                 \n",
       "class       NA                                                                                                                                                             \n",
       "cluster     MASS, Matrix                                                                                                                                                   \n",
       "codetools   NA                                                                                                                                                             \n",
       "compiler    NA                                                                                                                                                             \n",
       "datasets    NA                                                                                                                                                             \n",
       "foreign     NA                                                                                                                                                             \n",
       "graphics    NA                                                                                                                                                             \n",
       "grDevices   KernSmooth                                                                                                                                                     \n",
       "grid        lattice                                                                                                                                                        \n",
       "KernSmooth  MASS                                                                                                                                                           \n",
       "lattice     KernSmooth, MASS, latticeExtra                                                                                                                                 \n",
       "MASS        lattice, nlme, nnet, survival                                                                                                                                  \n",
       "Matrix      expm, MASS                                                                                                                                                     \n",
       "methods     codetools                                                                                                                                                      \n",
       "mgcv        parallel, survival, MASS                                                                                                                                       \n",
       "nlme        Hmisc, MASS                                                                                                                                                    \n",
       "nnet        MASS                                                                                                                                                           \n",
       "parallel    methods                                                                                                                                                        \n",
       "rpart       survival                                                                                                                                                       \n",
       "spatial     MASS                                                                                                                                                           \n",
       "splines     Matrix, methods                                                                                                                                                \n",
       "stats       MASS, Matrix, SuppDists, methods, stats4                                                                                                                       \n",
       "stats4      NA                                                                                                                                                             \n",
       "survival    NA                                                                                                                                                             \n",
       "tcltk       NA                                                                                                                                                             \n",
       "tools       codetools, methods, xml2, curl, commonmark                                                                                                                     \n",
       "utils       methods, xml2, commonmark                                                                                                                                      \n",
       "            Enhances                                                   \n",
       "IRdisplay   NA                                                         \n",
       "IRkernel    NA                                                         \n",
       "repr        data.table, dplyr, htmlwidgets, vegalite, plotly, geojsonio\n",
       "askpass     NA                                                         \n",
       "assertthat  NA                                                         \n",
       "backports   NA                                                         \n",
       "base64enc   png                                                        \n",
       "BH          NA                                                         \n",
       "brew        NA                                                         \n",
       "callr       NA                                                         \n",
       "cli         NA                                                         \n",
       "clipr       NA                                                         \n",
       "commonmark  NA                                                         \n",
       "crayon      NA                                                         \n",
       "crosstalk   NA                                                         \n",
       "desc        NA                                                         \n",
       "digest      NA                                                         \n",
       "DT          NA                                                         \n",
       "ellipsis    NA                                                         \n",
       "evaluate    NA                                                         \n",
       "fansi       NA                                                         \n",
       "fs          NA                                                         \n",
       "git2r       NA                                                         \n",
       "glue        NA                                                         \n",
       "highr       NA                                                         \n",
       "htmltools   knitr                                                      \n",
       "htmlwidgets shiny (>= 1.1)                                             \n",
       "ini         NA                                                         \n",
       "IRdisplay   NA                                                         \n",
       "IRkernel    NA                                                         \n",
       "⋮           ⋮                                                          \n",
       "yaml        NA                                                         \n",
       "base        NA                                                         \n",
       "boot        NA                                                         \n",
       "class       NA                                                         \n",
       "cluster     NA                                                         \n",
       "codetools   NA                                                         \n",
       "compiler    NA                                                         \n",
       "datasets    NA                                                         \n",
       "foreign     NA                                                         \n",
       "graphics    NA                                                         \n",
       "grDevices   NA                                                         \n",
       "grid        NA                                                         \n",
       "KernSmooth  NA                                                         \n",
       "lattice     chron                                                      \n",
       "MASS        NA                                                         \n",
       "Matrix      MatrixModels, graph, SparseM, sfsmisc                      \n",
       "methods     NA                                                         \n",
       "mgcv        NA                                                         \n",
       "nlme        NA                                                         \n",
       "nnet        NA                                                         \n",
       "parallel    snow, nws, Rmpi                                            \n",
       "rpart       NA                                                         \n",
       "spatial     NA                                                         \n",
       "splines     NA                                                         \n",
       "stats       NA                                                         \n",
       "stats4      NA                                                         \n",
       "survival    NA                                                         \n",
       "tcltk       NA                                                         \n",
       "tools       NA                                                         \n",
       "utils       NA                                                         \n",
       "            License                     License_is_FOSS License_restricts_use\n",
       "IRdisplay   MIT + file LICENSE          NA              NA                   \n",
       "IRkernel    MIT + file LICENSE          NA              NA                   \n",
       "repr        GPL-3                       NA              NA                   \n",
       "askpass     MIT + file LICENSE          NA              NA                   \n",
       "assertthat  GPL-3                       NA              NA                   \n",
       "backports   GPL-2 | GPL-3               NA              NA                   \n",
       "base64enc   GPL-2 | GPL-3               NA              NA                   \n",
       "BH          BSL-1.0                     NA              NA                   \n",
       "brew        GPL-2                       NA              NA                   \n",
       "callr       MIT + file LICENSE          NA              NA                   \n",
       "cli         MIT + file LICENSE          NA              NA                   \n",
       "clipr       GPL-3                       NA              NA                   \n",
       "commonmark  BSD_2_clause + file LICENSE NA              NA                   \n",
       "crayon      MIT + file LICENSE          NA              NA                   \n",
       "crosstalk   MIT + file LICENSE          NA              NA                   \n",
       "desc        MIT + file LICENSE          NA              NA                   \n",
       "digest      GPL (>= 2)                  NA              NA                   \n",
       "DT          GPL-3 | file LICENSE        NA              NA                   \n",
       "ellipsis    GPL-3                       NA              NA                   \n",
       "evaluate    MIT + file LICENSE          NA              NA                   \n",
       "fansi       GPL (>= 2)                  NA              NA                   \n",
       "fs          GPL-3                       NA              NA                   \n",
       "git2r       GPL-2                       NA              NA                   \n",
       "glue        MIT + file LICENSE          NA              NA                   \n",
       "highr       GPL                         NA              NA                   \n",
       "htmltools   GPL (>= 2)                  NA              NA                   \n",
       "htmlwidgets MIT + file LICENSE          NA              NA                   \n",
       "ini         GPL-3                       NA              NA                   \n",
       "IRdisplay   MIT + file LICENSE          NA              NA                   \n",
       "IRkernel    MIT + file LICENSE          NA              NA                   \n",
       "⋮           ⋮                           ⋮               ⋮                    \n",
       "yaml        BSD_3_clause + file LICENSE NA              NA                   \n",
       "base        Part of R 4.0.2             NA              NA                   \n",
       "boot        Unlimited                   NA              NA                   \n",
       "class       GPL-2 | GPL-3               NA              NA                   \n",
       "cluster     GPL (>= 2)                  NA              NA                   \n",
       "codetools   GPL                         NA              NA                   \n",
       "compiler    Part of R 4.0.2             NA              NA                   \n",
       "datasets    Part of R 4.0.2             NA              NA                   \n",
       "foreign     GPL (>= 2)                  NA              NA                   \n",
       "graphics    Part of R 4.0.2             NA              NA                   \n",
       "grDevices   Part of R 4.0.2             NA              NA                   \n",
       "grid        Part of R 4.0.2             NA              NA                   \n",
       "KernSmooth  Unlimited                   NA              NA                   \n",
       "lattice     GPL (>= 2)                  NA              NA                   \n",
       "MASS        GPL-2 | GPL-3               NA              NA                   \n",
       "Matrix      GPL (>= 2) | file LICENCE   NA              NA                   \n",
       "methods     Part of R 4.0.2             NA              NA                   \n",
       "mgcv        GPL (>= 2)                  NA              NA                   \n",
       "nlme        GPL (>= 2) | file LICENCE   NA              NA                   \n",
       "nnet        GPL-2 | GPL-3               NA              NA                   \n",
       "parallel    Part of R 4.0.2             NA              NA                   \n",
       "rpart       GPL-2 | GPL-3               NA              NA                   \n",
       "spatial     GPL-2 | GPL-3               NA              NA                   \n",
       "splines     Part of R 4.0.2             NA              NA                   \n",
       "stats       Part of R 4.0.2             NA              NA                   \n",
       "stats4      Part of R 4.0.2             NA              NA                   \n",
       "survival    LGPL (>= 2)                 NA              NA                   \n",
       "tcltk       Part of R 4.0.2             NA              NA                   \n",
       "tools       Part of R 4.0.2             NA              NA                   \n",
       "utils       Part of R 4.0.2             NA              NA                   \n",
       "            OS_type MD5sum NeedsCompilation Built\n",
       "IRdisplay   NA      NA     no               4.0.2\n",
       "IRkernel    NA      NA     no               4.0.2\n",
       "repr        NA      NA     no               4.0.2\n",
       "askpass     NA      NA     yes              4.0.2\n",
       "assertthat  NA      NA     no               4.0.2\n",
       "backports   NA      NA     yes              4.0.2\n",
       "base64enc   NA      NA     yes              4.0.2\n",
       "BH          NA      NA     no               4.0.2\n",
       "brew        NA      NA     NA               4.0.2\n",
       "callr       NA      NA     no               4.0.2\n",
       "cli         NA      NA     no               4.0.2\n",
       "clipr       NA      NA     no               4.0.2\n",
       "commonmark  NA      NA     yes              4.0.2\n",
       "crayon      NA      NA     no               4.0.2\n",
       "crosstalk   NA      NA     no               4.0.2\n",
       "desc        NA      NA     no               4.0.2\n",
       "digest      NA      NA     yes              4.0.2\n",
       "DT          NA      NA     no               4.0.2\n",
       "ellipsis    NA      NA     yes              4.0.2\n",
       "evaluate    NA      NA     no               4.0.2\n",
       "fansi       NA      NA     yes              4.0.2\n",
       "fs          NA      NA     yes              4.0.2\n",
       "git2r       NA      NA     yes              4.0.2\n",
       "glue        NA      NA     yes              4.0.2\n",
       "highr       NA      NA     no               4.0.2\n",
       "htmltools   NA      NA     yes              4.0.2\n",
       "htmlwidgets NA      NA     no               4.0.2\n",
       "ini         NA      NA     no               4.0.2\n",
       "IRdisplay   NA      NA     no               4.0.2\n",
       "IRkernel    NA      NA     no               4.0.2\n",
       "⋮           ⋮       ⋮      ⋮                ⋮    \n",
       "yaml        NA      NA     yes              4.0.2\n",
       "base        NA      NA     NA               4.0.2\n",
       "boot        NA      NA     no               4.0.0\n",
       "class       NA      NA     yes              4.0.0\n",
       "cluster     NA      NA     yes              4.0.0\n",
       "codetools   NA      NA     no               4.0.0\n",
       "compiler    NA      NA     NA               4.0.2\n",
       "datasets    NA      NA     NA               4.0.2\n",
       "foreign     NA      NA     yes              4.0.0\n",
       "graphics    NA      NA     yes              4.0.2\n",
       "grDevices   NA      NA     yes              4.0.2\n",
       "grid        NA      NA     yes              4.0.2\n",
       "KernSmooth  NA      NA     yes              4.0.0\n",
       "lattice     NA      NA     yes              4.0.0\n",
       "MASS        NA      NA     yes              4.0.2\n",
       "Matrix      NA      NA     yes              4.0.0\n",
       "methods     NA      NA     yes              4.0.2\n",
       "mgcv        NA      NA     yes              4.0.2\n",
       "nlme        NA      NA     yes              4.0.2\n",
       "nnet        NA      NA     yes              4.0.0\n",
       "parallel    NA      NA     yes              4.0.2\n",
       "rpart       NA      NA     yes              4.0.0\n",
       "spatial     NA      NA     yes              4.0.0\n",
       "splines     NA      NA     yes              4.0.2\n",
       "stats       NA      NA     yes              4.0.2\n",
       "stats4      NA      NA     NA               4.0.2\n",
       "survival    NA      NA     yes              4.0.0\n",
       "tcltk       NA      NA     yes              4.0.2\n",
       "tools       NA      NA     yes              4.0.2\n",
       "utils       NA      NA     yes              4.0.2"
      ]
     },
     "metadata": {},
     "output_type": "display_data"
    }
   ],
   "source": [
    "# Visualizando os pacotes instalados\n",
    "installed.packages()"
   ]
  },
  {
   "cell_type": "code",
   "execution_count": 3,
   "metadata": {},
   "outputs": [
    {
     "name": "stderr",
     "output_type": "stream",
     "text": [
      "Installing package into ‘/home/betania/R/x86_64-pc-linux-gnu-library/4.0’\n",
      "(as ‘lib’ is unspecified)\n",
      "\n",
      "also installing the dependencies ‘colorspace’, ‘testthat’, ‘farver’, ‘labeling’, ‘munsell’, ‘RColorBrewer’, ‘viridisLite’, ‘gtable’, ‘isoband’, ‘scales’\n",
      "\n",
      "\n"
     ]
    }
   ],
   "source": [
    "# Carregando um pacote\n",
    "install.packages(\"ggplot2\")\n",
    "library(ggplot2)"
   ]
  },
  {
   "cell_type": "code",
   "execution_count": 4,
   "metadata": {},
   "outputs": [
    {
     "data": {
      "text/html": [
       "<style>\n",
       ".list-inline {list-style: none; margin:0; padding: 0}\n",
       ".list-inline>li {display: inline-block}\n",
       ".list-inline>li:not(:last-child)::after {content: \"\\00b7\"; padding: 0 .5ex}\n",
       "</style>\n",
       "<ol class=list-inline><li>'.GlobalEnv'</li><li>'package:ggplot2'</li><li>'jupyter:irkernel'</li><li>'package:stats'</li><li>'package:graphics'</li><li>'package:grDevices'</li><li>'package:utils'</li><li>'package:datasets'</li><li>'package:methods'</li><li>'Autoloads'</li><li>'package:base'</li></ol>\n"
      ],
      "text/latex": [
       "\\begin{enumerate*}\n",
       "\\item '.GlobalEnv'\n",
       "\\item 'package:ggplot2'\n",
       "\\item 'jupyter:irkernel'\n",
       "\\item 'package:stats'\n",
       "\\item 'package:graphics'\n",
       "\\item 'package:grDevices'\n",
       "\\item 'package:utils'\n",
       "\\item 'package:datasets'\n",
       "\\item 'package:methods'\n",
       "\\item 'Autoloads'\n",
       "\\item 'package:base'\n",
       "\\end{enumerate*}\n"
      ],
      "text/markdown": [
       "1. '.GlobalEnv'\n",
       "2. 'package:ggplot2'\n",
       "3. 'jupyter:irkernel'\n",
       "4. 'package:stats'\n",
       "5. 'package:graphics'\n",
       "6. 'package:grDevices'\n",
       "7. 'package:utils'\n",
       "8. 'package:datasets'\n",
       "9. 'package:methods'\n",
       "10. 'Autoloads'\n",
       "11. 'package:base'\n",
       "\n",
       "\n"
      ],
      "text/plain": [
       " [1] \".GlobalEnv\"        \"package:ggplot2\"   \"jupyter:irkernel\" \n",
       " [4] \"package:stats\"     \"package:graphics\"  \"package:grDevices\"\n",
       " [7] \"package:utils\"     \"package:datasets\"  \"package:methods\"  \n",
       "[10] \"Autoloads\"         \"package:base\"     "
      ]
     },
     "metadata": {},
     "output_type": "display_data"
    }
   ],
   "source": [
    "# Verifica os pacotes carregados na memória\n",
    "search()"
   ]
  },
  {
   "cell_type": "code",
   "execution_count": null,
   "metadata": {},
   "outputs": [],
   "source": [
    "# Descarregando desalocando pacote da memória\n",
    "detach(\"package:ggplot2\")"
   ]
  },
  {
   "cell_type": "code",
   "execution_count": null,
   "metadata": {},
   "outputs": [],
   "source": [
    "# Verifica os pacotes carregados na memória\n",
    "search()"
   ]
  },
  {
   "cell_type": "markdown",
   "metadata": {},
   "source": [
    "## Operadores aritméticos\n",
    "\n",
    "| Operador | Significado   | Exemplo                    |\n",
    "|:---|:---|:---|\n",
    "|     +    | Adição        | a = 3 + 2                  |\n",
    "|     -    | Subtração     | b = 7 - a                  |\n",
    "|     *    | Multiplicação | c = a * b                  |\n",
    "|     /    | Divisão       | d = 10 / 3                   |\n",
    "|    %/%    | Quociente     | e = 10 %/% 3                  |\n",
    "|     %%    | Resto         | f = 10 %% 3                   |\n",
    "|    **   | Exponenciação | g = 2 ** 3               |\n",
    "|    ^    | Exponenciação | g = 2 ^ 3                |\n",
    "|    **   | Radiciação    | h = 16 ** (1/2) |\n",
    "|    ^    | Radiciação    | h = 16 ^ (1/2)            |\n",
    "\n",
    "## Precedência de Operadores\n",
    "\n",
    "1. Parênteses\n",
    "2. Potenciação\n",
    "3. Multiplicação e divisão\n",
    "4. Soma e subtração"
   ]
  },
  {
   "cell_type": "code",
   "execution_count": 5,
   "metadata": {},
   "outputs": [
    {
     "data": {
      "text/html": [
       "13"
      ],
      "text/latex": [
       "13"
      ],
      "text/markdown": [
       "13"
      ],
      "text/plain": [
       "[1] 13"
      ]
     },
     "metadata": {},
     "output_type": "display_data"
    }
   ],
   "source": [
    "# Definindo as variáveis a e b\n",
    "a = 10L\n",
    "b = 3L\n",
    "#Adição (+)\n",
    "adic = a + b\n",
    "adic # ou print(adic)"
   ]
  },
  {
   "cell_type": "code",
   "execution_count": 6,
   "metadata": {},
   "outputs": [
    {
     "data": {
      "text/html": [
       "7"
      ],
      "text/latex": [
       "7"
      ],
      "text/markdown": [
       "7"
      ],
      "text/plain": [
       "[1] 7"
      ]
     },
     "metadata": {},
     "output_type": "display_data"
    }
   ],
   "source": [
    "# Subtração (-)\n",
    "subt = a - b\n",
    "subt"
   ]
  },
  {
   "cell_type": "code",
   "execution_count": 7,
   "metadata": {},
   "outputs": [
    {
     "data": {
      "text/html": [
       "30"
      ],
      "text/latex": [
       "30"
      ],
      "text/markdown": [
       "30"
      ],
      "text/plain": [
       "[1] 30"
      ]
     },
     "metadata": {},
     "output_type": "display_data"
    }
   ],
   "source": [
    "# Multiplicação\n",
    "mult = a * b\n",
    "mult"
   ]
  },
  {
   "cell_type": "code",
   "execution_count": 8,
   "metadata": {},
   "outputs": [
    {
     "data": {
      "text/html": [
       "3.33333333333333"
      ],
      "text/latex": [
       "3.33333333333333"
      ],
      "text/markdown": [
       "3.33333333333333"
      ],
      "text/plain": [
       "[1] 3.333333"
      ]
     },
     "metadata": {},
     "output_type": "display_data"
    }
   ],
   "source": [
    "# Divisão real\n",
    "divi = a / b\n",
    "divi"
   ]
  },
  {
   "cell_type": "code",
   "execution_count": 9,
   "metadata": {},
   "outputs": [
    {
     "data": {
      "text/html": [
       "3"
      ],
      "text/latex": [
       "3"
      ],
      "text/markdown": [
       "3"
      ],
      "text/plain": [
       "[1] 3"
      ]
     },
     "metadata": {},
     "output_type": "display_data"
    }
   ],
   "source": [
    "# Divisão inteira (quociente)\n",
    "quoc = a %/% b\n",
    "quoc"
   ]
  },
  {
   "cell_type": "code",
   "execution_count": 10,
   "metadata": {},
   "outputs": [
    {
     "data": {
      "text/html": [
       "1"
      ],
      "text/latex": [
       "1"
      ],
      "text/markdown": [
       "1"
      ],
      "text/plain": [
       "[1] 1"
      ]
     },
     "metadata": {},
     "output_type": "display_data"
    }
   ],
   "source": [
    "# Divisão inteira (resto)\n",
    "resto = a %% b\n",
    "resto"
   ]
  },
  {
   "cell_type": "code",
   "execution_count": 11,
   "metadata": {},
   "outputs": [
    {
     "name": "stdout",
     "output_type": "stream",
     "text": [
      "[1] 8 9 3\n"
     ]
    }
   ],
   "source": [
    "# Potenciação\n",
    "potencia1 = 2 ** 3\n",
    "potencia2 = 3 ^ 2\n",
    "potencia3 = 9 ** (1/2)\n",
    "print(c(potencia1, potencia2, potencia3))"
   ]
  },
  {
   "cell_type": "markdown",
   "metadata": {},
   "source": [
    "## Exercício de fixação\n",
    "\n",
    "Converter as equações em expressões aritméticas válidas no R. \n",
    "\n",
    "Equação 1     $\\Rightarrow 2+3 \\times 4 \\div 5 - 6 $"
   ]
  },
  {
   "cell_type": "code",
   "execution_count": 12,
   "metadata": {},
   "outputs": [
    {
     "data": {
      "text/html": [
       "-1.6"
      ],
      "text/latex": [
       "-1.6"
      ],
      "text/markdown": [
       "-1.6"
      ],
      "text/plain": [
       "[1] -1.6"
      ]
     },
     "metadata": {},
     "output_type": "display_data"
    }
   ],
   "source": [
    "2 + 3 * (4 / 5) - 6"
   ]
  },
  {
   "cell_type": "markdown",
   "metadata": {},
   "source": [
    "Agora a mesma equação acima, mas alterando a precedência para que as operações de soma e subtração sejam executadas antes das outras. _Dica: use parênteses._"
   ]
  },
  {
   "cell_type": "code",
   "execution_count": 13,
   "metadata": {},
   "outputs": [
    {
     "data": {
      "text/html": [
       "-20"
      ],
      "text/latex": [
       "-20"
      ],
      "text/markdown": [
       "-20"
      ],
      "text/plain": [
       "[1] -20"
      ]
     },
     "metadata": {},
     "output_type": "display_data"
    }
   ],
   "source": [
    "(2 + 3) * 4 / (5 - 6)"
   ]
  },
  {
   "cell_type": "markdown",
   "metadata": {},
   "source": [
    "Equação 2 $\\Rightarrow \\sqrt{\\frac{(2-3)^{2}}{4}}$"
   ]
  },
  {
   "cell_type": "code",
   "execution_count": 14,
   "metadata": {},
   "outputs": [
    {
     "data": {
      "text/html": [
       "0.5"
      ],
      "text/latex": [
       "0.5"
      ],
      "text/markdown": [
       "0.5"
      ],
      "text/plain": [
       "[1] 0.5"
      ]
     },
     "metadata": {},
     "output_type": "display_data"
    }
   ],
   "source": [
    "((2-3)**2/4)**(1/2)"
   ]
  },
  {
   "cell_type": "markdown",
   "metadata": {},
   "source": [
    "## Tipos de Dados em R\n",
    "\n",
    "Segundo o [R Language Definition](https://cran.r-project.org/doc/manuals/r-release/R-lang.html), R contém seis tipos básicos de dados. São eles:\n",
    "\n",
    "* integer (ex: 2L, 5L | varia entre -2.147.483.647 a +2.147.483.647)\n",
    "* double (ex: 3.14159, 0.0001, 9999999999999999 | varia entre 2.22507e-308 e 1.79769e+308)\n",
    "* complex (ex: 3+2i, 7i)\n",
    "* character (ex: \"R\", \"Jupyter\")\n",
    "* logical (TRUE, FALSE)\n",
    "* raw (ex: 52, 5a)"
   ]
  },
  {
   "cell_type": "code",
   "execution_count": 15,
   "metadata": {},
   "outputs": [
    {
     "data": {
      "text/html": [
       "1.79769e+308"
      ],
      "text/latex": [
       "1.79769e+308"
      ],
      "text/markdown": [
       "1.79769e+308"
      ],
      "text/plain": [
       "[1] 1.79769e+308"
      ]
     },
     "metadata": {},
     "output_type": "display_data"
    }
   ],
   "source": [
    "a = 179768999999999999999999999999999999999999999999999999999999999999999999999999999999999999999999999999999999999999999999999999999999999999999999999999999999999999999999999999999999999999999999999999999999999999999999999999999999999999999999999999999999999999999999999999999999999999999999999999999999999999999\n",
    "a"
   ]
  },
  {
   "cell_type": "code",
   "execution_count": 17,
   "metadata": {},
   "outputs": [
    {
     "data": {
      "text/html": [
       "'double'"
      ],
      "text/latex": [
       "'double'"
      ],
      "text/markdown": [
       "'double'"
      ],
      "text/plain": [
       "[1] \"double\""
      ]
     },
     "metadata": {},
     "output_type": "display_data"
    }
   ],
   "source": [
    "typeof(a)"
   ]
  },
  {
   "cell_type": "code",
   "execution_count": 18,
   "metadata": {},
   "outputs": [
    {
     "data": {
      "text/html": [
       "2147483647"
      ],
      "text/latex": [
       "2147483647"
      ],
      "text/markdown": [
       "2147483647"
      ],
      "text/plain": [
       "[1] 2147483647"
      ]
     },
     "metadata": {},
     "output_type": "display_data"
    }
   ],
   "source": [
    "b = 2147483647L # ou b = as.integer(2147483647)\n",
    "b"
   ]
  },
  {
   "cell_type": "code",
   "execution_count": 19,
   "metadata": {},
   "outputs": [
    {
     "data": {
      "text/html": [
       "'integer'"
      ],
      "text/latex": [
       "'integer'"
      ],
      "text/markdown": [
       "'integer'"
      ],
      "text/plain": [
       "[1] \"integer\""
      ]
     },
     "metadata": {},
     "output_type": "display_data"
    }
   ],
   "source": [
    "typeof(b)"
   ]
  },
  {
   "cell_type": "code",
   "execution_count": 20,
   "metadata": {},
   "outputs": [
    {
     "data": {
      "text/html": [
       "3+2i"
      ],
      "text/latex": [
       "3+2i"
      ],
      "text/markdown": [
       "3+2i"
      ],
      "text/plain": [
       "[1] 3+2i"
      ]
     },
     "metadata": {},
     "output_type": "display_data"
    }
   ],
   "source": [
    "c = 3 + 2i\n",
    "c"
   ]
  },
  {
   "cell_type": "code",
   "execution_count": 21,
   "metadata": {},
   "outputs": [
    {
     "data": {
      "text/html": [
       "'complex'"
      ],
      "text/latex": [
       "'complex'"
      ],
      "text/markdown": [
       "'complex'"
      ],
      "text/plain": [
       "[1] \"complex\""
      ]
     },
     "metadata": {},
     "output_type": "display_data"
    }
   ],
   "source": [
    "typeof(c)"
   ]
  },
  {
   "cell_type": "code",
   "execution_count": 22,
   "metadata": {},
   "outputs": [
    {
     "data": {
      "text/html": [
       "'texto'"
      ],
      "text/latex": [
       "'texto'"
      ],
      "text/markdown": [
       "'texto'"
      ],
      "text/plain": [
       "[1] \"texto\""
      ]
     },
     "metadata": {},
     "output_type": "display_data"
    }
   ],
   "source": [
    "d = \"texto\"\n",
    "d"
   ]
  },
  {
   "cell_type": "code",
   "execution_count": 23,
   "metadata": {},
   "outputs": [
    {
     "data": {
      "text/html": [
       "'character'"
      ],
      "text/latex": [
       "'character'"
      ],
      "text/markdown": [
       "'character'"
      ],
      "text/plain": [
       "[1] \"character\""
      ]
     },
     "metadata": {},
     "output_type": "display_data"
    }
   ],
   "source": [
    "typeof(d)"
   ]
  },
  {
   "cell_type": "code",
   "execution_count": 24,
   "metadata": {},
   "outputs": [
    {
     "data": {
      "text/html": [
       "TRUE"
      ],
      "text/latex": [
       "TRUE"
      ],
      "text/markdown": [
       "TRUE"
      ],
      "text/plain": [
       "[1] TRUE"
      ]
     },
     "metadata": {},
     "output_type": "display_data"
    }
   ],
   "source": [
    "e = TRUE # e = T\n",
    "e"
   ]
  },
  {
   "cell_type": "code",
   "execution_count": 25,
   "metadata": {},
   "outputs": [
    {
     "data": {
      "text/html": [
       "'logical'"
      ],
      "text/latex": [
       "'logical'"
      ],
      "text/markdown": [
       "'logical'"
      ],
      "text/plain": [
       "[1] \"logical\""
      ]
     },
     "metadata": {},
     "output_type": "display_data"
    }
   ],
   "source": [
    "typeof(e)"
   ]
  },
  {
   "cell_type": "code",
   "execution_count": 26,
   "metadata": {},
   "outputs": [
    {
     "data": {
      "text/plain": [
       "[1] 41"
      ]
     },
     "metadata": {},
     "output_type": "display_data"
    }
   ],
   "source": [
    "f <- charToRaw(\"A\")\n",
    "f"
   ]
  },
  {
   "cell_type": "code",
   "execution_count": 27,
   "metadata": {},
   "outputs": [
    {
     "data": {
      "text/html": [
       "'raw'"
      ],
      "text/latex": [
       "'raw'"
      ],
      "text/markdown": [
       "'raw'"
      ],
      "text/plain": [
       "[1] \"raw\""
      ]
     },
     "metadata": {},
     "output_type": "display_data"
    }
   ],
   "source": [
    "typeof(f)"
   ]
  },
  {
   "cell_type": "markdown",
   "metadata": {},
   "source": [
    "## Verificando tipos de dados e variáveis em R\n",
    "\n",
    "### typeof()\n",
    "\n",
    "O R fornece o método **typeof()** que retorna o tipo de dados e variáveis. Seu uso é muito simples, basta chamar a função passando por parâmetro um objeto, variável ou um valor entre parênteses. "
   ]
  },
  {
   "cell_type": "code",
   "execution_count": 28,
   "metadata": {},
   "outputs": [
    {
     "data": {
      "text/html": [
       "'double'"
      ],
      "text/latex": [
       "'double'"
      ],
      "text/markdown": [
       "'double'"
      ],
      "text/plain": [
       "[1] \"double\""
      ]
     },
     "metadata": {},
     "output_type": "display_data"
    }
   ],
   "source": [
    "typeof(a)"
   ]
  },
  {
   "cell_type": "code",
   "execution_count": 29,
   "metadata": {},
   "outputs": [
    {
     "data": {
      "text/html": [
       "'double'"
      ],
      "text/latex": [
       "'double'"
      ],
      "text/markdown": [
       "'double'"
      ],
      "text/plain": [
       "[1] \"double\""
      ]
     },
     "metadata": {},
     "output_type": "display_data"
    }
   ],
   "source": [
    "typeof(3)"
   ]
  },
  {
   "cell_type": "code",
   "execution_count": 30,
   "metadata": {},
   "outputs": [
    {
     "data": {
      "text/html": [
       "'integer'"
      ],
      "text/latex": [
       "'integer'"
      ],
      "text/markdown": [
       "'integer'"
      ],
      "text/plain": [
       "[1] \"integer\""
      ]
     },
     "metadata": {},
     "output_type": "display_data"
    }
   ],
   "source": [
    "typeof(3L)"
   ]
  },
  {
   "cell_type": "code",
   "execution_count": 31,
   "metadata": {},
   "outputs": [
    {
     "data": {
      "text/html": [
       "'character'"
      ],
      "text/latex": [
       "'character'"
      ],
      "text/markdown": [
       "'character'"
      ],
      "text/plain": [
       "[1] \"character\""
      ]
     },
     "metadata": {},
     "output_type": "display_data"
    }
   ],
   "source": [
    "typeof(\"R\")"
   ]
  },
  {
   "cell_type": "code",
   "execution_count": 32,
   "metadata": {},
   "outputs": [
    {
     "data": {
      "text/html": [
       "'logical'"
      ],
      "text/latex": [
       "'logical'"
      ],
      "text/markdown": [
       "'logical'"
      ],
      "text/plain": [
       "[1] \"logical\""
      ]
     },
     "metadata": {},
     "output_type": "display_data"
    }
   ],
   "source": [
    "typeof(TRUE)"
   ]
  },
  {
   "cell_type": "code",
   "execution_count": 33,
   "metadata": {},
   "outputs": [
    {
     "data": {
      "text/html": [
       "'complex'"
      ],
      "text/latex": [
       "'complex'"
      ],
      "text/markdown": [
       "'complex'"
      ],
      "text/plain": [
       "[1] \"complex\""
      ]
     },
     "metadata": {},
     "output_type": "display_data"
    }
   ],
   "source": [
    "typeof(3+2i)"
   ]
  },
  {
   "cell_type": "code",
   "execution_count": 34,
   "metadata": {},
   "outputs": [
    {
     "data": {
      "text/plain": [
       "[1] 48 65 6c 6c 6f"
      ]
     },
     "metadata": {},
     "output_type": "display_data"
    }
   ],
   "source": [
    "charToRaw(\"Hello\")"
   ]
  },
  {
   "cell_type": "code",
   "execution_count": 35,
   "metadata": {},
   "outputs": [
    {
     "data": {
      "text/html": [
       "'raw'"
      ],
      "text/latex": [
       "'raw'"
      ],
      "text/markdown": [
       "'raw'"
      ],
      "text/plain": [
       "[1] \"raw\""
      ]
     },
     "metadata": {},
     "output_type": "display_data"
    }
   ],
   "source": [
    "ctr = charToRaw(\"Hello\")\n",
    "typeof(ctr)"
   ]
  },
  {
   "cell_type": "code",
   "execution_count": 36,
   "metadata": {},
   "outputs": [
    {
     "data": {
      "text/html": [
       "'integer'"
      ],
      "text/latex": [
       "'integer'"
      ],
      "text/markdown": [
       "'integer'"
      ],
      "text/plain": [
       "[1] \"integer\""
      ]
     },
     "metadata": {},
     "output_type": "display_data"
    }
   ],
   "source": [
    "vetorInt = c(3L, 9L, 2L, 6L)\n",
    "typeof(vetorInt)"
   ]
  },
  {
   "cell_type": "code",
   "execution_count": 37,
   "metadata": {},
   "outputs": [
    {
     "data": {
      "text/html": [
       "'double'"
      ],
      "text/latex": [
       "'double'"
      ],
      "text/markdown": [
       "'double'"
      ],
      "text/plain": [
       "[1] \"double\""
      ]
     },
     "metadata": {},
     "output_type": "display_data"
    }
   ],
   "source": [
    "vetorDouble = c(3, 9, 2, 6)\n",
    "typeof(vetorDouble)"
   ]
  },
  {
   "cell_type": "code",
   "execution_count": 38,
   "metadata": {},
   "outputs": [
    {
     "data": {
      "text/html": [
       "'complex'"
      ],
      "text/latex": [
       "'complex'"
      ],
      "text/markdown": [
       "'complex'"
      ],
      "text/plain": [
       "[1] \"complex\""
      ]
     },
     "metadata": {},
     "output_type": "display_data"
    }
   ],
   "source": [
    "vetorComplex = c(3+2i, 9-5i, 2i, 6)\n",
    "typeof(vetorComplex)"
   ]
  },
  {
   "cell_type": "code",
   "execution_count": 39,
   "metadata": {},
   "outputs": [
    {
     "data": {
      "text/html": [
       "'character'"
      ],
      "text/latex": [
       "'character'"
      ],
      "text/markdown": [
       "'character'"
      ],
      "text/plain": [
       "[1] \"character\""
      ]
     },
     "metadata": {},
     "output_type": "display_data"
    }
   ],
   "source": [
    "vetorChar = c(\"R\", \"Python\", \"Hadoop\", \"GGPlot2\")\n",
    "typeof(vetorChar)"
   ]
  },
  {
   "cell_type": "code",
   "execution_count": 40,
   "metadata": {},
   "outputs": [
    {
     "data": {
      "text/html": [
       "'logical'"
      ],
      "text/latex": [
       "'logical'"
      ],
      "text/markdown": [
       "'logical'"
      ],
      "text/plain": [
       "[1] \"logical\""
      ]
     },
     "metadata": {},
     "output_type": "display_data"
    }
   ],
   "source": [
    "vetorLog = c(TRUE, 5 < 10, FALSE, 3 > 4)\n",
    "typeof(vetorLog)"
   ]
  },
  {
   "cell_type": "code",
   "execution_count": 41,
   "metadata": {},
   "outputs": [
    {
     "data": {
      "text/html": [
       "'raw'"
      ],
      "text/latex": [
       "'raw'"
      ],
      "text/markdown": [
       "'raw'"
      ],
      "text/plain": [
       "[1] \"raw\""
      ]
     },
     "metadata": {},
     "output_type": "display_data"
    }
   ],
   "source": [
    "vetorRaw = c(charToRaw(\"R\"), charToRaw(\"Python\"), charToRaw(\"Hadoop\"), charToRaw(\"GGPlot2\"))\n",
    "typeof(vetorRaw)"
   ]
  },
  {
   "cell_type": "code",
   "execution_count": 42,
   "metadata": {},
   "outputs": [
    {
     "data": {
      "text/plain": [
       "[1] 5a"
      ]
     },
     "metadata": {},
     "output_type": "display_data"
    }
   ],
   "source": [
    "x = charToRaw(\"Z\")\n",
    "x"
   ]
  },
  {
   "cell_type": "code",
   "execution_count": 43,
   "metadata": {},
   "outputs": [
    {
     "data": {
      "text/html": [
       "'Z'"
      ],
      "text/latex": [
       "'Z'"
      ],
      "text/markdown": [
       "'Z'"
      ],
      "text/plain": [
       "[1] \"Z\""
      ]
     },
     "metadata": {},
     "output_type": "display_data"
    }
   ],
   "source": [
    "rawToChar(x)"
   ]
  },
  {
   "cell_type": "markdown",
   "metadata": {},
   "source": [
    "## Variáveis e o comando de atribuição\n",
    "\n",
    "### Conceito de variável\n",
    "O que é uma [variável](https://pt.wikipedia.org/wiki/Variável_\\(programação\\) \"Conceito de variável no Wikipedia\")? De forma bem simples e objetiva, uma **variável** é um espaço na memória (*memória RAM*) do seu computador, utilizada por um programa para armazenar dados. \n",
    "\n",
    "\n",
    "### Identificadores\n",
    "\n",
    "Uma variável precisa necessariamente de um nome, o qual chamamos de **identificador**. Em R, um identificador é formado apenas por letras (_de A a Z, maiúsculas ou minúsculas, com ou sem acentuação_), dígitos (_0 a 9_), o _underscore_ ( \\_ ) e o _ponto_ ( . ). Um identificador deve começar **obrigatoriamente** com uma letra ou ponto seguido por um qualquer caractere que não seja dígito. Também não pode conter espaços e caracteres especiais (@, !, \\*, -, &, ˜, etc). \n",
    "\n",
    "#### Identificadores válidos e inválidos\n",
    "Portanto podemos considerar os seguintes identificadores como nomes válidos para variáveis:\n",
    "\n",
    "* nome\n",
    "* Salário\n",
    "* NUMERO10\\_\n",
    "* i23ER21\n",
    "* \\..\\_data\\_de\\_nascimento\\_\n",
    "\n",
    "Já os identificadores abaixo não são nomes válidos para variáveis:\n",
    "* nome do aluno (*identificadores não podem conter espaços*)\n",
    "* Sal\\@rio (*contém um caractere especial @*)\n",
    "* 10NUMERO (*começa com dígito*)\n",
    "* \\_23ER21 (*começa com underscore \\_*)\n",
    "* data-de-nascimento (*possui um caractere especial -*)\n",
    "\n",
    "#### Identificadores significativos e não significativos\n",
    "\n",
    "Além de serem válidos, como nos exemplos acima, os **identificadores** precisam ter nomes significativos. Ou seja, ao ver um identificador, o programador deve conseguir perceber que dado está armazenado na variável.\n",
    "\n",
    "Os identificadores abaixo, embora sejam válidos, não tem nomes significativos:\n",
    "\n",
    "* i23ER1\n",
    "* .a123\n",
    "* BATMAN\n",
    "* T\n",
    "\n",
    "Embora todos os identificadores acima sejam válidos, não são significativos. Que informação será armazenada nas variáveis *i23ER21*, *.a123*, *BATMAN* ou *T*? É difícil descobrir.\n",
    "\n",
    "Os identificadores abaixo são válidos e tem nomes significativos:\n",
    "\n",
    "* salario\n",
    "* idade\n",
    "* nome\n",
    "* nota\n",
    "* complementoenderecoparacorrespondencia\n",
    "\n",
    "Uma observação importante: para que um nome seja significativo, ele não precisa ser tão longo quanto _complementoenderecoparacorrespondencia_. Por exemplo, o que a variável `dtnasc` armazena? Se você pensou em uma data de nascimento, você acertou. Não precisamos de identificadores longos como *data\\_de\\_nascimento* para criar identificadores significativos. O ideal é utilizar identificadores mais curtos e fáceis de memorizar e utilizar como _dtnasc_.\n",
    "\n",
    "Por fim, uma última informação. R faz diferenciação entre letras maiúsculas e minúsculas em identificadores. Portanto, os identificadores _nota, Nota e NOTA_ representam três variáveis diferentes.\n",
    "\n",
    "### Criando variáveis\n",
    "\n",
    "Variáveis em R não são **declaradas** como em outras linguagens *(ex: Pascal, C, C++, Java, C#, etc...)* mas **criadas** a partir da atribuição de um valor, uma variável, uma expressão ou um objeto. O comando de atribuição, representado pelos símbolos (`=`,  `<-` ou `->`), é o responsável por atribuir (ou armazenar) um valor em uma variável. Também é possível atribuir um valor a uma variável através da função _assign()_.\n",
    "\n",
    "Vejamos alguns exemplos:"
   ]
  },
  {
   "cell_type": "code",
   "execution_count": null,
   "metadata": {},
   "outputs": [],
   "source": [
    "idade = 47L # ou idade = as.integer(47)\n",
    "idade"
   ]
  },
  {
   "cell_type": "code",
   "execution_count": null,
   "metadata": {},
   "outputs": [],
   "source": [
    "qtdeFilhos <- 2\n",
    "qtdeFilhos"
   ]
  },
  {
   "cell_type": "code",
   "execution_count": null,
   "metadata": {},
   "outputs": [],
   "source": [
    "assign(\"peso\",70.9)\n",
    "peso"
   ]
  },
  {
   "cell_type": "code",
   "execution_count": null,
   "metadata": {},
   "outputs": [],
   "source": [
    "'José Maria da Silva' -> nome\n",
    "nome"
   ]
  },
  {
   "cell_type": "code",
   "execution_count": null,
   "metadata": {},
   "outputs": [],
   "source": [
    "altura = 1.72"
   ]
  },
  {
   "cell_type": "code",
   "execution_count": null,
   "metadata": {},
   "outputs": [],
   "source": [
    "casado = TRUE"
   ]
  },
  {
   "cell_type": "markdown",
   "metadata": {},
   "source": [
    "## Testando tipo de dados e de variáveis"
   ]
  },
  {
   "cell_type": "code",
   "execution_count": null,
   "metadata": {},
   "outputs": [],
   "source": [
    "is.integer(1)"
   ]
  },
  {
   "cell_type": "code",
   "execution_count": null,
   "metadata": {},
   "outputs": [],
   "source": [
    "x = as.integer(5)"
   ]
  },
  {
   "cell_type": "code",
   "execution_count": null,
   "metadata": {},
   "outputs": [],
   "source": [
    "is.integer(x)"
   ]
  },
  {
   "cell_type": "code",
   "execution_count": null,
   "metadata": {},
   "outputs": [],
   "source": [
    "is.integer(1L)"
   ]
  },
  {
   "cell_type": "code",
   "execution_count": null,
   "metadata": {},
   "outputs": [],
   "source": [
    "is.character(\"A\")"
   ]
  },
  {
   "cell_type": "code",
   "execution_count": null,
   "metadata": {},
   "outputs": [],
   "source": [
    "is.numeric(15)"
   ]
  },
  {
   "cell_type": "code",
   "execution_count": null,
   "metadata": {},
   "outputs": [],
   "source": [
    "is.double(15)"
   ]
  },
  {
   "cell_type": "code",
   "execution_count": null,
   "metadata": {},
   "outputs": [],
   "source": [
    "is.raw(15)"
   ]
  },
  {
   "cell_type": "code",
   "execution_count": null,
   "metadata": {},
   "outputs": [],
   "source": [
    "is.logical(TRUE)"
   ]
  },
  {
   "cell_type": "code",
   "execution_count": null,
   "metadata": {},
   "outputs": [],
   "source": [
    "is.complex(2i)"
   ]
  },
  {
   "cell_type": "markdown",
   "metadata": {},
   "source": [
    "## Imprimindo valores e variáveis\n",
    "\n",
    "O R fornece o método print para impressão de valores e variáveis. "
   ]
  },
  {
   "cell_type": "code",
   "execution_count": null,
   "metadata": {},
   "outputs": [],
   "source": [
    "nome = \"Maria\"\n",
    "print(nome)"
   ]
  },
  {
   "cell_type": "code",
   "execution_count": null,
   "metadata": {},
   "outputs": [],
   "source": [
    "print(\"nome\")"
   ]
  },
  {
   "cell_type": "code",
   "execution_count": null,
   "metadata": {},
   "outputs": [],
   "source": [
    "print(\"nome\",nome)"
   ]
  },
  {
   "cell_type": "code",
   "execution_count": null,
   "metadata": {},
   "outputs": [],
   "source": [
    "print(paste0(\"nome \",nome))"
   ]
  },
  {
   "cell_type": "code",
   "execution_count": null,
   "metadata": {},
   "outputs": [],
   "source": [
    "paste(\"Meu\",\"nome\",\"é\",\"Maria\")"
   ]
  },
  {
   "cell_type": "code",
   "execution_count": null,
   "metadata": {},
   "outputs": [],
   "source": [
    "print(paste(\"Meu\",\"nome\",\"é\",\"Maria\"))"
   ]
  },
  {
   "cell_type": "code",
   "execution_count": null,
   "metadata": {},
   "outputs": [],
   "source": [
    "paste0(\"Meu\",\"nome\",\"é\",\"Maria\")"
   ]
  },
  {
   "cell_type": "code",
   "execution_count": null,
   "metadata": {},
   "outputs": [],
   "source": [
    "print(paste0(\"Meu\",\"nome\",\"é\",\"Maria\"))"
   ]
  },
  {
   "cell_type": "code",
   "execution_count": null,
   "metadata": {},
   "outputs": [],
   "source": [
    "cat(\"Meu\",\"nome\",\"é\",\"Maria\")"
   ]
  },
  {
   "cell_type": "code",
   "execution_count": null,
   "metadata": {},
   "outputs": [],
   "source": [
    "paste(\"Meu\",\"nome\",\"é\",\"Maria\", sep=\"&\")"
   ]
  },
  {
   "cell_type": "markdown",
   "metadata": {},
   "source": [
    "## Dica print(), cat(), paste() e paste0()\n",
    "\n",
    "* Para imprimir mensagens mais elaboradas, use apenas o cat() ou o print() em conjunto com paste() ou paste0().\n",
    "* Lembre-se que a diferença entre paste() e paste0() é que, por *default*, o separador em paste é \" \" e em paste0 é \"\""
   ]
  },
  {
   "cell_type": "code",
   "execution_count": null,
   "metadata": {},
   "outputs": [],
   "source": [
    "idade = as.integer(readline(prompt=\"Digite sua idade: \"))"
   ]
  },
  {
   "cell_type": "code",
   "execution_count": null,
   "metadata": {},
   "outputs": [],
   "source": [
    "nome = readline(prompt=\"Digite seu nome: \")"
   ]
  },
  {
   "cell_type": "code",
   "execution_count": null,
   "metadata": {},
   "outputs": [],
   "source": [
    "cat(nome,\"tem\",idade,\"anos de idade.\")"
   ]
  },
  {
   "cell_type": "code",
   "execution_count": null,
   "metadata": {},
   "outputs": [],
   "source": [
    "print(paste(nome,\"tem\",idade,\"anos de idade.\"))"
   ]
  },
  {
   "cell_type": "markdown",
   "metadata": {},
   "source": [
    "# Transformando equações matemáticas em expressões aritméticas\n",
    "\n",
    "### Cálculo da área e perímetro do retângulo\n",
    "\n",
    "$area = base \\times altura$\n",
    "\n",
    "$ perímetro = 2 \\times (base + altura)$"
   ]
  },
  {
   "cell_type": "code",
   "execution_count": null,
   "metadata": {},
   "outputs": [],
   "source": [
    "base = 7\n",
    "altura = 8\n",
    "area = base * altura\n",
    "perimetro = 2 * (base + altura)\n",
    "print(area)\n",
    "print(perimetro)"
   ]
  },
  {
   "cell_type": "markdown",
   "metadata": {},
   "source": [
    "### Cálculo da área e comprimento da circunferência\n",
    "\n",
    "$ area = \\pi \\times raio^{2} $\n",
    "\n",
    "$ comprimento = 2 \\times \\pi * raio $"
   ]
  },
  {
   "cell_type": "code",
   "execution_count": null,
   "metadata": {},
   "outputs": [],
   "source": [
    "raio = 2\n",
    "area = pi * raio ** 2\n",
    "comprimento = 2 * pi * raio\n",
    "cat(\"Para o raio\",raio,\", a área =\",area,\"e o comprimento =\", comprimento)"
   ]
  },
  {
   "cell_type": "code",
   "execution_count": null,
   "metadata": {},
   "outputs": [],
   "source": [
    "# Calculando a área e comprimento de uma circunferência cujo raio será informado pelo usuário\n",
    "raio = as.numeric(readline(prompt=\"Digite o valor do raio: \"))\n",
    "area = pi * raio ** 2\n",
    "comprimento = 2 * pi * raio\n",
    "cat(\"Para o raio\",raio,\", a área =\",area,\"e o comprimento =\", comprimento)"
   ]
  },
  {
   "cell_type": "markdown",
   "metadata": {},
   "source": [
    "### Cálculo da distância euclidiana entre 2 pontos no plano cartesiano\n",
    "\n",
    "$ distância = \\sqrt{(x_{1}-x_{2})^{2} + (y_{1}-y_{2})^{2}} $"
   ]
  },
  {
   "cell_type": "code",
   "execution_count": null,
   "metadata": {},
   "outputs": [],
   "source": [
    "# Calculando a distância entre os pontos (3,4) e (5,6)\n",
    "x1 = 3\n",
    "y1 = 4\n",
    "x2 = 5\n",
    "y2 = 6\n",
    "dist = ((x1-x2)**2 + (y1-y2)**2)**(1/2)\n",
    "cat(\"A distância entre os pontos(\",x1,\",\",y1,\") e (\",x2,\",\",y2,\") =\",dist)"
   ]
  },
  {
   "cell_type": "code",
   "execution_count": null,
   "metadata": {},
   "outputs": [],
   "source": [
    "# Calculando a distância entre os pontos digitados pelo usuário\n",
    "x1 = as.numeric(readline(prompt=\"Digite o valor de x1: \"))\n",
    "y1 = as.numeric(readline(prompt=\"Digite o valor de y1: \"))\n",
    "x2 = as.numeric(readline(prompt=\"Digite o valor de x2: \"))\n",
    "y2 = as.numeric(readline(prompt=\"Digite o valor de y2: \"))\n",
    "dist = ((x1-x2)**2 + (y1-y2)**2)**(1/2)\n",
    "cat(\"A distância entre os pontos(\",x1,\",\",y1,\") e (\",x2,\",\",y2,\") =\",dist)"
   ]
  },
  {
   "cell_type": "markdown",
   "metadata": {},
   "source": [
    "### Cálculo do delta e das raízes de uma equação do segundo grau\n",
    "\n",
    "$ \\Delta = b^{2} - 4ac $\n",
    "\n",
    "$ x = \\frac{-b \\pm \\sqrt{\\Delta}}{2a} $"
   ]
  },
  {
   "cell_type": "code",
   "execution_count": null,
   "metadata": {},
   "outputs": [],
   "source": [
    "# Calculando o Delta e raízes x1 e x2 para a equação y = x^2 - 5x + 6\n",
    "a = 1\n",
    "b = -5\n",
    "c = 6\n",
    "delta = b**2 - 4*a*c\n",
    "x1 = (-b+delta**(1/2))/(2*a)\n",
    "x2 = (-b-delta**(1/2))/(2*a)\n",
    "cat(\"Delta =\",delta,\", x1 =\",x1,\"e x2 =\", x2)"
   ]
  },
  {
   "cell_type": "code",
   "execution_count": null,
   "metadata": {},
   "outputs": [],
   "source": [
    "# Calculando o Delta e raízes x1 e x2 para a equação cujos coeficientes serão informados pelo usuário\n",
    "a = as.numeric(readline(\"Digite o valor do coeficiente a: \"))\n",
    "b = as.numeric(readline(\"Digite o valor do coeficiente b: \"))\n",
    "c = as.numeric(readline(\"Digite o valor do coeficiente c: \"))\n",
    "delta = b**2 - 4*a*c\n",
    "x1 = (-b+delta**(1/2))/(2*a)\n",
    "x2 = (-b-delta**(1/2))/(2*a)\n",
    "cat(\"Delta =\",delta,\", x1 =\",x1,\"e x2 =\", x2)"
   ]
  },
  {
   "cell_type": "markdown",
   "metadata": {},
   "source": [
    "### Cálculo da área do setor circular (fatia de um círculo)\n",
    "\n",
    "$ S = \\frac{\\alpha \\pi r^{2}}{360} $"
   ]
  },
  {
   "cell_type": "code",
   "execution_count": null,
   "metadata": {},
   "outputs": [],
   "source": [
    "# Para um círculo de raio 15, calcular a área de uma fatia com angulo = 45 graus (um pizza)\n",
    "# Isso equivale a calcular a área de uma das 8 fatias de uma pizza com 30 cm de diâmetro\n",
    "a = 45\n",
    "r = 15\n",
    "s = (a * pi * r ** 2)/360\n",
    "cat(\"Num círculo de raio\",r,\"cm, o setor circular de ângulo\",a,\"terá área =\",s,\"cm^2.\")"
   ]
  },
  {
   "cell_type": "markdown",
   "metadata": {},
   "source": [
    "## Operadores relacionais (operadores de comparação)\n",
    "\n",
    "| Operador | Significado   | Exemplo                    |\n",
    "|:---|:---|:---|\n",
    "| == | Igualdade | a == b |\n",
    "| != | DesiIgualdade | a != b |\n",
    "| > | Maior que | a > b |\n",
    "| < | Menor que | a < b |\n",
    "| >= | Maior ou igual | a >= b |\n",
    "| <= | Menor ou igual | a <= b |"
   ]
  },
  {
   "cell_type": "code",
   "execution_count": null,
   "metadata": {},
   "outputs": [],
   "source": [
    "a = 5\n",
    "b = 3\n",
    "a == b"
   ]
  },
  {
   "cell_type": "code",
   "execution_count": null,
   "metadata": {},
   "outputs": [],
   "source": [
    "a != b"
   ]
  },
  {
   "cell_type": "code",
   "execution_count": null,
   "metadata": {},
   "outputs": [],
   "source": [
    "a > b"
   ]
  },
  {
   "cell_type": "code",
   "execution_count": null,
   "metadata": {},
   "outputs": [],
   "source": [
    "a < b"
   ]
  },
  {
   "cell_type": "code",
   "execution_count": null,
   "metadata": {},
   "outputs": [],
   "source": [
    "a >= b"
   ]
  },
  {
   "cell_type": "code",
   "execution_count": null,
   "metadata": {},
   "outputs": [],
   "source": [
    "b <= a"
   ]
  },
  {
   "cell_type": "markdown",
   "metadata": {},
   "source": [
    "## Operadores lógicos (conectivos lógicos)\n",
    "\n",
    "| Operador | Significado   | Exemplo                    |\n",
    "|:---|:---|:---|\n",
    "| & ou && | **E** lógico | a == b & b == c |\n",
    "| \\| ou \\|\\| | **OU** lógico | a == b \\| b == c |\n",
    "| xor | **OU** exclusivo (XOR) | a == b xor b == c |\n",
    "| ! | Negação (inverte o resultado lógico) | !(a == b & b == c) |\n",
    "\n",
    "### Tabela verdade (AND)\n",
    "\n",
    "| a | b | a & b |\n",
    "|:--:|:--:|:--:|\n",
    "| True  | True  | **True** |\n",
    "| True  | False | False |\n",
    "| False | True  | False |\n",
    "| False | False | False |\n",
    "\n",
    "| a | b | c | a & b & c |\n",
    "|:--:|:--:|:--:|:--:|\n",
    "| True  | True  | True  | **True** |\n",
    "| True  | True  | False | False |\n",
    "| True  | False | True  | False |\n",
    "| True  | False | False | False |\n",
    "| False | True  | True  | False |\n",
    "| False | True  | False | False |\n",
    "| False | False | True  | False |\n",
    "| False | False | False | False |\n",
    "\n",
    "### Tabela verdade (OR)\n",
    "\n",
    "| a | b | a \\| b |\n",
    "|:--:|:--:|:--:|\n",
    "| True  | True  | **True** |\n",
    "| True  | False | **True** |\n",
    "| False | True  | **True** |\n",
    "| False | False | False |\n",
    "\n",
    "### Tabela verdade (XOR)\n",
    "\n",
    "| a | b | a xor b |\n",
    "|:--:|:--:|:--:|\n",
    "| True  | True  | False |\n",
    "| True  | False | **True** |\n",
    "| False | True  | **True** |\n",
    "| False | False | False |\n",
    "\n",
    "### Tabela verdade (NOT)\n",
    "| a | !(a) |\n",
    "|:--:|:--:|\n",
    "| True  | False |\n",
    "| False | **True** |"
   ]
  },
  {
   "cell_type": "code",
   "execution_count": null,
   "metadata": {},
   "outputs": [],
   "source": [
    "# TABELA DO AND (com 2 booleanos)\n",
    "print(paste(\" x     | y     | x and y \"))\n",
    "print(paste(\"-------------------------\"))\n",
    "print(paste(\" TRUE  | TRUE  |\", TRUE & TRUE ))\n",
    "print(paste(\" TRUE  | FALSE |\", TRUE & FALSE ))\n",
    "print(paste(\" FALSE | TRUE  |\", FALSE & TRUE))\n",
    "print(paste(\" False | FALSE |\", FALSE & FALSE))"
   ]
  },
  {
   "cell_type": "code",
   "execution_count": null,
   "metadata": {},
   "outputs": [],
   "source": [
    "# TABELA DO AND (com 3 booleanos)\n",
    "print(paste(\" x     | y     | z     |  x and y and z \"))\n",
    "print(paste(\"----------------------------------------\"))\n",
    "print(paste(\" TRUE  | TRUE  | TRUE  |\",TRUE & TRUE & TRUE))\n",
    "print(paste(\" TRUE  | TRUE  | FALSE |\",TRUE & TRUE & FALSE))\n",
    "print(paste(\" TRUE  | FALSE | TRUE  |\",TRUE & FALSE & TRUE))\n",
    "print(paste(\" TRUE  | FALSE | FALSE |\",TRUE & FALSE & FALSE))\n",
    "print(paste(\" FALSE | TRUE  | TRUE  |\",FALSE & TRUE & TRUE))\n",
    "print(paste(\" FALSE | TRUE  | FALSE |\",FALSE & TRUE & FALSE))\n",
    "print(paste(\" FALSE | FALSE | TRUE  |\",FALSE & FALSE & TRUE))\n",
    "print(paste(\" FALSE | FALSE | FALSE |\",FALSE & FALSE & FALSE))"
   ]
  },
  {
   "cell_type": "code",
   "execution_count": null,
   "metadata": {},
   "outputs": [],
   "source": [
    "# TABELA DO OR (com 2 booleanos)\n",
    "print(paste(\" x     | y     | x or y \"))\n",
    "print(paste(\"-------------------------\"))\n",
    "print(paste(\" TRUE  | TRUE  |\", TRUE | TRUE ))\n",
    "print(paste(\" TRUE  | FALSE |\", TRUE | FALSE ))\n",
    "print(paste(\" FALSE | TRUE  |\", FALSE | TRUE))\n",
    "print(paste(\" False | FALSE |\", FALSE | FALSE))"
   ]
  },
  {
   "cell_type": "code",
   "execution_count": null,
   "metadata": {},
   "outputs": [],
   "source": [
    "# TABELA DO XOR (com 2 booleanos)\n",
    "print(paste(\" x     | y     | x xor y \"))\n",
    "print(paste(\"-------------------------\"))\n",
    "print(paste(\" TRUE  | TRUE  |\", xor(TRUE, TRUE)))\n",
    "print(paste(\" TRUE  | FALSE |\", xor(TRUE, FALSE)))\n",
    "print(paste(\" FALSE | TRUE  |\", xor(FALSE, TRUE)))\n",
    "print(paste(\" False | FALSE |\", xor(FALSE, FALSE)))"
   ]
  },
  {
   "cell_type": "code",
   "execution_count": null,
   "metadata": {},
   "outputs": [],
   "source": [
    "# TABELA DO NOT\n",
    "print(paste(\" x     | not(x) \"))\n",
    "print(paste(\"----------------\"))\n",
    "print(paste(\" True  |\",!(TRUE)))\n",
    "print(paste(\" False |\",!(FALSE)))"
   ]
  },
  {
   "cell_type": "markdown",
   "metadata": {},
   "source": [
    "## Gerenciando objetos na memória"
   ]
  },
  {
   "cell_type": "code",
   "execution_count": null,
   "metadata": {},
   "outputs": [],
   "source": [
    "# Lista todos os objetos alocados na memória\n",
    "ls() # Também pode ser usada a função objects()"
   ]
  },
  {
   "cell_type": "code",
   "execution_count": null,
   "metadata": {},
   "outputs": [],
   "source": [
    "# Removendo um objeto específico\n",
    "remove(altura) # ou rm(altura)"
   ]
  },
  {
   "cell_type": "code",
   "execution_count": null,
   "metadata": {},
   "outputs": [],
   "source": [
    "ls()"
   ]
  },
  {
   "cell_type": "code",
   "execution_count": null,
   "metadata": {},
   "outputs": [],
   "source": [
    "# Removendo todos os objetos\n",
    "remove(list = ls()) # ou rm(list = ls())\n",
    "ls()"
   ]
  },
  {
   "cell_type": "code",
   "execution_count": null,
   "metadata": {},
   "outputs": [],
   "source": [
    "# Removendo objetos específicos\n",
    "a = 5\n",
    "b = 6\n",
    "c = 7\n",
    "rm(list = c(\"a\", \"c\"))\n",
    "ls()"
   ]
  }
 ],
 "metadata": {
  "kernelspec": {
   "display_name": "R",
   "language": "R",
   "name": "ir"
  },
  "language_info": {
   "codemirror_mode": "r",
   "file_extension": ".r",
   "mimetype": "text/x-r-source",
   "name": "R",
   "pygments_lexer": "r",
   "version": "4.0.2"
  }
 },
 "nbformat": 4,
 "nbformat_minor": 4
}
